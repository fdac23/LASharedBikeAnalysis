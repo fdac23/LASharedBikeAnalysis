{
 "cells": [
  {
   "cell_type": "markdown",
   "metadata": {},
   "source": [
    "# Read In Dataset 😚"
   ]
  },
  {
   "cell_type": "code",
   "execution_count": 162,
   "metadata": {},
   "outputs": [],
   "source": [
    "import pandas as pd\n",
    "import warnings\n",
    "\n",
    "warnings.filterwarnings('ignore')"
   ]
  },
  {
   "cell_type": "code",
   "execution_count": 163,
   "metadata": {},
   "outputs": [],
   "source": [
    "data = pd.read_csv('/home/robot/Desktop/SoftRice/LASharedBikeAnalysis-main/Final_Large_data.csv')"
   ]
  },
  {
   "cell_type": "code",
   "execution_count": 164,
   "metadata": {
    "scrolled": false
   },
   "outputs": [
    {
     "data": {
      "text/html": [
       "<div>\n",
       "<style scoped>\n",
       "    .dataframe tbody tr th:only-of-type {\n",
       "        vertical-align: middle;\n",
       "    }\n",
       "\n",
       "    .dataframe tbody tr th {\n",
       "        vertical-align: top;\n",
       "    }\n",
       "\n",
       "    .dataframe thead th {\n",
       "        text-align: right;\n",
       "    }\n",
       "</style>\n",
       "<table border=\"1\" class=\"dataframe\">\n",
       "  <thead>\n",
       "    <tr style=\"text-align: right;\">\n",
       "      <th></th>\n",
       "      <th>Trip ID</th>\n",
       "      <th>Duration</th>\n",
       "      <th>Start Time</th>\n",
       "      <th>End Time</th>\n",
       "      <th>Starting Station ID</th>\n",
       "      <th>Starting Station Latitude</th>\n",
       "      <th>Starting Station Longitude</th>\n",
       "      <th>Ending Station ID</th>\n",
       "      <th>Ending Station Latitude</th>\n",
       "      <th>Ending Station Longitude</th>\n",
       "      <th>Bike ID</th>\n",
       "      <th>Plan Duration</th>\n",
       "      <th>Trip Route Category</th>\n",
       "      <th>Passholder Type</th>\n",
       "      <th>bike_type</th>\n",
       "      <th>Starting Lat-Long</th>\n",
       "      <th>Ending Lat-Long</th>\n",
       "      <th>start station name</th>\n",
       "      <th>end station name</th>\n",
       "    </tr>\n",
       "  </thead>\n",
       "  <tbody>\n",
       "    <tr>\n",
       "      <th>0</th>\n",
       "      <td>165226338</td>\n",
       "      <td>19</td>\n",
       "      <td>2021-07-01T00:12:00</td>\n",
       "      <td>2021-07-01T00:31:00</td>\n",
       "      <td>4548</td>\n",
       "      <td>34.026829</td>\n",
       "      <td>-118.393517</td>\n",
       "      <td>4555</td>\n",
       "      <td>34.005871</td>\n",
       "      <td>-118.429161</td>\n",
       "      <td>20122</td>\n",
       "      <td>30</td>\n",
       "      <td>One Way</td>\n",
       "      <td>Monthly Pass</td>\n",
       "      <td>standard</td>\n",
       "      <td>{'longitude': -118.393517, 'latitude': 34.026829}</td>\n",
       "      <td>{'longitude': -118.429161, 'latitude': 34.005871}</td>\n",
       "      <td>NaN</td>\n",
       "      <td>NaN</td>\n",
       "    </tr>\n",
       "  </tbody>\n",
       "</table>\n",
       "</div>"
      ],
      "text/plain": [
       "     Trip ID  Duration           Start Time             End Time  \\\n",
       "0  165226338        19  2021-07-01T00:12:00  2021-07-01T00:31:00   \n",
       "\n",
       "   Starting Station ID  Starting Station Latitude  Starting Station Longitude  \\\n",
       "0                 4548                  34.026829                 -118.393517   \n",
       "\n",
       "   Ending Station ID  Ending Station Latitude  Ending Station Longitude  \\\n",
       "0               4555                34.005871               -118.429161   \n",
       "\n",
       "  Bike ID  Plan Duration Trip Route Category Passholder Type bike_type  \\\n",
       "0   20122             30             One Way    Monthly Pass  standard   \n",
       "\n",
       "                                   Starting Lat-Long  \\\n",
       "0  {'longitude': -118.393517, 'latitude': 34.026829}   \n",
       "\n",
       "                                     Ending Lat-Long  start station name  \\\n",
       "0  {'longitude': -118.429161, 'latitude': 34.005871}                 NaN   \n",
       "\n",
       "   end station name  \n",
       "0               NaN  "
      ]
     },
     "execution_count": 164,
     "metadata": {},
     "output_type": "execute_result"
    }
   ],
   "source": [
    "data.head(1)"
   ]
  },
  {
   "cell_type": "code",
   "execution_count": 165,
   "metadata": {},
   "outputs": [
    {
     "data": {
      "text/plain": [
       "(58411, 19)"
      ]
     },
     "execution_count": 165,
     "metadata": {},
     "output_type": "execute_result"
    }
   ],
   "source": [
    "data.shape"
   ]
  },
  {
   "cell_type": "markdown",
   "metadata": {},
   "source": [
    "---"
   ]
  },
  {
   "cell_type": "markdown",
   "metadata": {},
   "source": [
    "# Select Necessary Columns to Analyze 😁"
   ]
  },
  {
   "cell_type": "markdown",
   "metadata": {},
   "source": [
    "### Process Station Infomation 😦"
   ]
  },
  {
   "cell_type": "code",
   "execution_count": 166,
   "metadata": {},
   "outputs": [
    {
     "data": {
      "text/html": [
       "<div>\n",
       "<style scoped>\n",
       "    .dataframe tbody tr th:only-of-type {\n",
       "        vertical-align: middle;\n",
       "    }\n",
       "\n",
       "    .dataframe tbody tr th {\n",
       "        vertical-align: top;\n",
       "    }\n",
       "\n",
       "    .dataframe thead th {\n",
       "        text-align: right;\n",
       "    }\n",
       "</style>\n",
       "<table border=\"1\" class=\"dataframe\">\n",
       "  <thead>\n",
       "    <tr style=\"text-align: right;\">\n",
       "      <th></th>\n",
       "      <th>Starting Station ID</th>\n",
       "      <th>Starting Station Latitude</th>\n",
       "      <th>Starting Station Longitude</th>\n",
       "      <th>Ending Station ID</th>\n",
       "      <th>Ending Station Latitude</th>\n",
       "      <th>Ending Station Longitude</th>\n",
       "    </tr>\n",
       "  </thead>\n",
       "  <tbody>\n",
       "    <tr>\n",
       "      <th>0</th>\n",
       "      <td>4548</td>\n",
       "      <td>34.026829</td>\n",
       "      <td>-118.393517</td>\n",
       "      <td>4555</td>\n",
       "      <td>34.005871</td>\n",
       "      <td>-118.429161</td>\n",
       "    </tr>\n",
       "    <tr>\n",
       "      <th>1</th>\n",
       "      <td>4441</td>\n",
       "      <td>34.026619</td>\n",
       "      <td>-118.281807</td>\n",
       "      <td>4441</td>\n",
       "      <td>34.026619</td>\n",
       "      <td>-118.281807</td>\n",
       "    </tr>\n",
       "    <tr>\n",
       "      <th>2</th>\n",
       "      <td>4555</td>\n",
       "      <td>34.005871</td>\n",
       "      <td>-118.429161</td>\n",
       "      <td>4555</td>\n",
       "      <td>34.005871</td>\n",
       "      <td>-118.429161</td>\n",
       "    </tr>\n",
       "    <tr>\n",
       "      <th>3</th>\n",
       "      <td>4441</td>\n",
       "      <td>34.026619</td>\n",
       "      <td>-118.281807</td>\n",
       "      <td>4454</td>\n",
       "      <td>34.017899</td>\n",
       "      <td>-118.291718</td>\n",
       "    </tr>\n",
       "    <tr>\n",
       "      <th>4</th>\n",
       "      <td>4564</td>\n",
       "      <td>34.035351</td>\n",
       "      <td>-118.434143</td>\n",
       "      <td>4561</td>\n",
       "      <td>34.020061</td>\n",
       "      <td>-118.422684</td>\n",
       "    </tr>\n",
       "  </tbody>\n",
       "</table>\n",
       "</div>"
      ],
      "text/plain": [
       "   Starting Station ID  Starting Station Latitude  Starting Station Longitude  \\\n",
       "0                 4548                  34.026829                 -118.393517   \n",
       "1                 4441                  34.026619                 -118.281807   \n",
       "2                 4555                  34.005871                 -118.429161   \n",
       "3                 4441                  34.026619                 -118.281807   \n",
       "4                 4564                  34.035351                 -118.434143   \n",
       "\n",
       "   Ending Station ID  Ending Station Latitude  Ending Station Longitude  \n",
       "0               4555                34.005871               -118.429161  \n",
       "1               4441                34.026619               -118.281807  \n",
       "2               4555                34.005871               -118.429161  \n",
       "3               4454                34.017899               -118.291718  \n",
       "4               4561                34.020061               -118.422684  "
      ]
     },
     "execution_count": 166,
     "metadata": {},
     "output_type": "execute_result"
    }
   ],
   "source": [
    "station_info = data[['Starting Station ID','Starting Station Latitude','Starting Station Longitude','Ending Station ID','Ending Station Latitude','Ending Station Longitude']]\n",
    "station_info.head()"
   ]
  },
  {
   "cell_type": "code",
   "execution_count": 167,
   "metadata": {},
   "outputs": [],
   "source": [
    "start_station = station_info[['Starting Station ID','Starting Station Longitude','Starting Station Latitude']]\n",
    "#start_station.head()"
   ]
  },
  {
   "cell_type": "code",
   "execution_count": 168,
   "metadata": {},
   "outputs": [],
   "source": [
    "end_station = station_info[['Ending Station ID','Ending Station Longitude','Ending Station Latitude']]\n",
    "#end_station.head()"
   ]
  },
  {
   "cell_type": "markdown",
   "metadata": {},
   "source": [
    "### Process Bike Infomation 😄"
   ]
  },
  {
   "cell_type": "code",
   "execution_count": 237,
   "metadata": {},
   "outputs": [
    {
     "data": {
      "text/html": [
       "<div>\n",
       "<style scoped>\n",
       "    .dataframe tbody tr th:only-of-type {\n",
       "        vertical-align: middle;\n",
       "    }\n",
       "\n",
       "    .dataframe tbody tr th {\n",
       "        vertical-align: top;\n",
       "    }\n",
       "\n",
       "    .dataframe thead th {\n",
       "        text-align: right;\n",
       "    }\n",
       "</style>\n",
       "<table border=\"1\" class=\"dataframe\">\n",
       "  <thead>\n",
       "    <tr style=\"text-align: right;\">\n",
       "      <th></th>\n",
       "      <th>Duration</th>\n",
       "      <th>Start Time</th>\n",
       "      <th>End Time</th>\n",
       "      <th>Trip Route Category</th>\n",
       "      <th>Plan Duration</th>\n",
       "      <th>Passholder Type</th>\n",
       "    </tr>\n",
       "  </thead>\n",
       "  <tbody>\n",
       "    <tr>\n",
       "      <th>0</th>\n",
       "      <td>19</td>\n",
       "      <td>2021-07-01T00:12:00</td>\n",
       "      <td>2021-07-01T00:31:00</td>\n",
       "      <td>One Way</td>\n",
       "      <td>30</td>\n",
       "      <td>Monthly Pass</td>\n",
       "    </tr>\n",
       "    <tr>\n",
       "      <th>1</th>\n",
       "      <td>22</td>\n",
       "      <td>2021-07-01T00:23:00</td>\n",
       "      <td>2021-07-01T00:45:00</td>\n",
       "      <td>Round Trip</td>\n",
       "      <td>30</td>\n",
       "      <td>Monthly Pass</td>\n",
       "    </tr>\n",
       "    <tr>\n",
       "      <th>2</th>\n",
       "      <td>26</td>\n",
       "      <td>2021-07-01T00:34:00</td>\n",
       "      <td>2021-07-01T01:00:00</td>\n",
       "      <td>Round Trip</td>\n",
       "      <td>30</td>\n",
       "      <td>Monthly Pass</td>\n",
       "    </tr>\n",
       "    <tr>\n",
       "      <th>3</th>\n",
       "      <td>17</td>\n",
       "      <td>2021-07-01T00:50:00</td>\n",
       "      <td>2021-07-01T01:07:00</td>\n",
       "      <td>One Way</td>\n",
       "      <td>30</td>\n",
       "      <td>Monthly Pass</td>\n",
       "    </tr>\n",
       "    <tr>\n",
       "      <th>4</th>\n",
       "      <td>15</td>\n",
       "      <td>2021-07-01T02:38:00</td>\n",
       "      <td>2021-07-01T02:53:00</td>\n",
       "      <td>One Way</td>\n",
       "      <td>30</td>\n",
       "      <td>Monthly Pass</td>\n",
       "    </tr>\n",
       "  </tbody>\n",
       "</table>\n",
       "</div>"
      ],
      "text/plain": [
       "   Duration           Start Time             End Time Trip Route Category  \\\n",
       "0        19  2021-07-01T00:12:00  2021-07-01T00:31:00             One Way   \n",
       "1        22  2021-07-01T00:23:00  2021-07-01T00:45:00          Round Trip   \n",
       "2        26  2021-07-01T00:34:00  2021-07-01T01:00:00          Round Trip   \n",
       "3        17  2021-07-01T00:50:00  2021-07-01T01:07:00             One Way   \n",
       "4        15  2021-07-01T02:38:00  2021-07-01T02:53:00             One Way   \n",
       "\n",
       "   Plan Duration Passholder Type  \n",
       "0             30    Monthly Pass  \n",
       "1             30    Monthly Pass  \n",
       "2             30    Monthly Pass  \n",
       "3             30    Monthly Pass  \n",
       "4             30    Monthly Pass  "
      ]
     },
     "execution_count": 237,
     "metadata": {},
     "output_type": "execute_result"
    }
   ],
   "source": [
    "bike_info = data[['Duration','Start Time','End Time','Trip Route Category','Plan Duration','Passholder Type']]\n",
    "bike_info.head()"
   ]
  },
  {
   "cell_type": "code",
   "execution_count": 170,
   "metadata": {
    "scrolled": true
   },
   "outputs": [
    {
     "data": {
      "text/plain": [
       "Passholder Type\n",
       "Monthly Pass    25423\n",
       "Walk-up         19830\n",
       "One Day Pass     7081\n",
       "Annual Pass      6076\n",
       "Testing             1\n",
       "Name: count, dtype: int64"
      ]
     },
     "execution_count": 170,
     "metadata": {},
     "output_type": "execute_result"
    }
   ],
   "source": [
    "data['Passholder Type'].value_counts()"
   ]
  },
  {
   "cell_type": "markdown",
   "metadata": {},
   "source": [
    "### Process Trip Information 😃"
   ]
  },
  {
   "cell_type": "code",
   "execution_count": 171,
   "metadata": {},
   "outputs": [
    {
     "data": {
      "text/html": [
       "<div>\n",
       "<style scoped>\n",
       "    .dataframe tbody tr th:only-of-type {\n",
       "        vertical-align: middle;\n",
       "    }\n",
       "\n",
       "    .dataframe tbody tr th {\n",
       "        vertical-align: top;\n",
       "    }\n",
       "\n",
       "    .dataframe thead th {\n",
       "        text-align: right;\n",
       "    }\n",
       "</style>\n",
       "<table border=\"1\" class=\"dataframe\">\n",
       "  <thead>\n",
       "    <tr style=\"text-align: right;\">\n",
       "      <th></th>\n",
       "      <th>Duration</th>\n",
       "      <th>Start Time</th>\n",
       "      <th>End Time</th>\n",
       "      <th>Starting Station ID</th>\n",
       "      <th>Ending Station ID</th>\n",
       "      <th>Trip Route Category</th>\n",
       "      <th>Plan Duration</th>\n",
       "      <th>Passholder Type</th>\n",
       "    </tr>\n",
       "  </thead>\n",
       "  <tbody>\n",
       "    <tr>\n",
       "      <th>0</th>\n",
       "      <td>19</td>\n",
       "      <td>2021-07-01T00:12:00</td>\n",
       "      <td>2021-07-01T00:31:00</td>\n",
       "      <td>4548</td>\n",
       "      <td>4555</td>\n",
       "      <td>One Way</td>\n",
       "      <td>30</td>\n",
       "      <td>Monthly Pass</td>\n",
       "    </tr>\n",
       "    <tr>\n",
       "      <th>1</th>\n",
       "      <td>22</td>\n",
       "      <td>2021-07-01T00:23:00</td>\n",
       "      <td>2021-07-01T00:45:00</td>\n",
       "      <td>4441</td>\n",
       "      <td>4441</td>\n",
       "      <td>Round Trip</td>\n",
       "      <td>30</td>\n",
       "      <td>Monthly Pass</td>\n",
       "    </tr>\n",
       "    <tr>\n",
       "      <th>2</th>\n",
       "      <td>26</td>\n",
       "      <td>2021-07-01T00:34:00</td>\n",
       "      <td>2021-07-01T01:00:00</td>\n",
       "      <td>4555</td>\n",
       "      <td>4555</td>\n",
       "      <td>Round Trip</td>\n",
       "      <td>30</td>\n",
       "      <td>Monthly Pass</td>\n",
       "    </tr>\n",
       "    <tr>\n",
       "      <th>3</th>\n",
       "      <td>17</td>\n",
       "      <td>2021-07-01T00:50:00</td>\n",
       "      <td>2021-07-01T01:07:00</td>\n",
       "      <td>4441</td>\n",
       "      <td>4454</td>\n",
       "      <td>One Way</td>\n",
       "      <td>30</td>\n",
       "      <td>Monthly Pass</td>\n",
       "    </tr>\n",
       "    <tr>\n",
       "      <th>4</th>\n",
       "      <td>15</td>\n",
       "      <td>2021-07-01T02:38:00</td>\n",
       "      <td>2021-07-01T02:53:00</td>\n",
       "      <td>4564</td>\n",
       "      <td>4561</td>\n",
       "      <td>One Way</td>\n",
       "      <td>30</td>\n",
       "      <td>Monthly Pass</td>\n",
       "    </tr>\n",
       "  </tbody>\n",
       "</table>\n",
       "</div>"
      ],
      "text/plain": [
       "   Duration           Start Time             End Time  Starting Station ID  \\\n",
       "0        19  2021-07-01T00:12:00  2021-07-01T00:31:00                 4548   \n",
       "1        22  2021-07-01T00:23:00  2021-07-01T00:45:00                 4441   \n",
       "2        26  2021-07-01T00:34:00  2021-07-01T01:00:00                 4555   \n",
       "3        17  2021-07-01T00:50:00  2021-07-01T01:07:00                 4441   \n",
       "4        15  2021-07-01T02:38:00  2021-07-01T02:53:00                 4564   \n",
       "\n",
       "   Ending Station ID Trip Route Category  Plan Duration Passholder Type  \n",
       "0               4555             One Way             30    Monthly Pass  \n",
       "1               4441          Round Trip             30    Monthly Pass  \n",
       "2               4555          Round Trip             30    Monthly Pass  \n",
       "3               4454             One Way             30    Monthly Pass  \n",
       "4               4561             One Way             30    Monthly Pass  "
      ]
     },
     "execution_count": 171,
     "metadata": {},
     "output_type": "execute_result"
    }
   ],
   "source": [
    "trip_info = data[['Duration','Start Time','End Time','Starting Station ID','Ending Station ID','Trip Route Category','Plan Duration','Passholder Type']]\n",
    "trip_info.head()"
   ]
  },
  {
   "cell_type": "markdown",
   "metadata": {},
   "source": [
    "---"
   ]
  },
  {
   "cell_type": "markdown",
   "metadata": {},
   "source": [
    "## Station Infomation 😮"
   ]
  },
  {
   "cell_type": "code",
   "execution_count": 172,
   "metadata": {},
   "outputs": [],
   "source": [
    "%matplotlib inline\n",
    "import matplotlib\n",
    "import matplotlib.pyplot as plt\n",
    "plt.rcParams['axes.labelsize'] = 14\n",
    "plt.rcParams['xtick.labelsize'] = 12\n",
    "plt.rcParams['ytick.labelsize'] = 12"
   ]
  },
  {
   "cell_type": "code",
   "execution_count": 173,
   "metadata": {},
   "outputs": [
    {
     "data": {
      "text/html": [
       "<div>\n",
       "<style scoped>\n",
       "    .dataframe tbody tr th:only-of-type {\n",
       "        vertical-align: middle;\n",
       "    }\n",
       "\n",
       "    .dataframe tbody tr th {\n",
       "        vertical-align: top;\n",
       "    }\n",
       "\n",
       "    .dataframe thead th {\n",
       "        text-align: right;\n",
       "    }\n",
       "</style>\n",
       "<table border=\"1\" class=\"dataframe\">\n",
       "  <thead>\n",
       "    <tr style=\"text-align: right;\">\n",
       "      <th></th>\n",
       "      <th>Starting Station ID</th>\n",
       "      <th>Starting Station Longitude</th>\n",
       "      <th>Starting Station Latitude</th>\n",
       "    </tr>\n",
       "  </thead>\n",
       "  <tbody>\n",
       "    <tr>\n",
       "      <th>0</th>\n",
       "      <td>4548</td>\n",
       "      <td>-118.393517</td>\n",
       "      <td>34.026829</td>\n",
       "    </tr>\n",
       "    <tr>\n",
       "      <th>1</th>\n",
       "      <td>4441</td>\n",
       "      <td>-118.281807</td>\n",
       "      <td>34.026619</td>\n",
       "    </tr>\n",
       "    <tr>\n",
       "      <th>2</th>\n",
       "      <td>4555</td>\n",
       "      <td>-118.429161</td>\n",
       "      <td>34.005871</td>\n",
       "    </tr>\n",
       "    <tr>\n",
       "      <th>3</th>\n",
       "      <td>4441</td>\n",
       "      <td>-118.281807</td>\n",
       "      <td>34.026619</td>\n",
       "    </tr>\n",
       "    <tr>\n",
       "      <th>4</th>\n",
       "      <td>4564</td>\n",
       "      <td>-118.434143</td>\n",
       "      <td>34.035351</td>\n",
       "    </tr>\n",
       "  </tbody>\n",
       "</table>\n",
       "</div>"
      ],
      "text/plain": [
       "   Starting Station ID  Starting Station Longitude  Starting Station Latitude\n",
       "0                 4548                 -118.393517                  34.026829\n",
       "1                 4441                 -118.281807                  34.026619\n",
       "2                 4555                 -118.429161                  34.005871\n",
       "3                 4441                 -118.281807                  34.026619\n",
       "4                 4564                 -118.434143                  34.035351"
      ]
     },
     "execution_count": 173,
     "metadata": {},
     "output_type": "execute_result"
    }
   ],
   "source": [
    "start_station.head().dropna()"
   ]
  },
  {
   "cell_type": "code",
   "execution_count": 174,
   "metadata": {},
   "outputs": [],
   "source": [
    "grouped = start_station.groupby('Starting Station ID')"
   ]
  },
  {
   "cell_type": "code",
   "execution_count": 175,
   "metadata": {},
   "outputs": [],
   "source": [
    "count_value = start_station['Starting Station ID'].value_counts().values"
   ]
  },
  {
   "cell_type": "code",
   "execution_count": 176,
   "metadata": {},
   "outputs": [],
   "source": [
    "st_info = grouped.max()\n",
    "st_info.insert(2,'Counts',count_value)"
   ]
  },
  {
   "cell_type": "code",
   "execution_count": 177,
   "metadata": {},
   "outputs": [
    {
     "data": {
      "text/html": [
       "<div>\n",
       "<style scoped>\n",
       "    .dataframe tbody tr th:only-of-type {\n",
       "        vertical-align: middle;\n",
       "    }\n",
       "\n",
       "    .dataframe tbody tr th {\n",
       "        vertical-align: top;\n",
       "    }\n",
       "\n",
       "    .dataframe thead th {\n",
       "        text-align: right;\n",
       "    }\n",
       "</style>\n",
       "<table border=\"1\" class=\"dataframe\">\n",
       "  <thead>\n",
       "    <tr style=\"text-align: right;\">\n",
       "      <th></th>\n",
       "      <th>Starting Station Longitude</th>\n",
       "      <th>Starting Station Latitude</th>\n",
       "      <th>Counts</th>\n",
       "    </tr>\n",
       "    <tr>\n",
       "      <th>Starting Station ID</th>\n",
       "      <th></th>\n",
       "      <th></th>\n",
       "      <th></th>\n",
       "    </tr>\n",
       "  </thead>\n",
       "  <tbody>\n",
       "    <tr>\n",
       "      <th>3000</th>\n",
       "      <td>-118.238220</td>\n",
       "      <td>34.025890</td>\n",
       "      <td>3279</td>\n",
       "    </tr>\n",
       "    <tr>\n",
       "      <th>3005</th>\n",
       "      <td>-118.258537</td>\n",
       "      <td>34.048500</td>\n",
       "      <td>2485</td>\n",
       "    </tr>\n",
       "    <tr>\n",
       "      <th>3006</th>\n",
       "      <td>-118.256668</td>\n",
       "      <td>34.045540</td>\n",
       "      <td>2410</td>\n",
       "    </tr>\n",
       "    <tr>\n",
       "      <th>3007</th>\n",
       "      <td>-118.254593</td>\n",
       "      <td>34.050480</td>\n",
       "      <td>2022</td>\n",
       "    </tr>\n",
       "    <tr>\n",
       "      <th>3008</th>\n",
       "      <td>-118.262733</td>\n",
       "      <td>34.046612</td>\n",
       "      <td>1634</td>\n",
       "    </tr>\n",
       "  </tbody>\n",
       "</table>\n",
       "</div>"
      ],
      "text/plain": [
       "                     Starting Station Longitude  Starting Station Latitude  \\\n",
       "Starting Station ID                                                          \n",
       "3000                                -118.238220                  34.025890   \n",
       "3005                                -118.258537                  34.048500   \n",
       "3006                                -118.256668                  34.045540   \n",
       "3007                                -118.254593                  34.050480   \n",
       "3008                                -118.262733                  34.046612   \n",
       "\n",
       "                     Counts  \n",
       "Starting Station ID          \n",
       "3000                   3279  \n",
       "3005                   2485  \n",
       "3006                   2410  \n",
       "3007                   2022  \n",
       "3008                   1634  "
      ]
     },
     "execution_count": 177,
     "metadata": {},
     "output_type": "execute_result"
    }
   ],
   "source": [
    "st_info.head()"
   ]
  },
  {
   "cell_type": "markdown",
   "metadata": {},
   "source": [
    "---"
   ]
  },
  {
   "cell_type": "markdown",
   "metadata": {},
   "source": [
    "## Discover Bike Infomation"
   ]
  },
  {
   "cell_type": "code",
   "execution_count": 178,
   "metadata": {},
   "outputs": [
    {
     "data": {
      "text/html": [
       "<div>\n",
       "<style scoped>\n",
       "    .dataframe tbody tr th:only-of-type {\n",
       "        vertical-align: middle;\n",
       "    }\n",
       "\n",
       "    .dataframe tbody tr th {\n",
       "        vertical-align: top;\n",
       "    }\n",
       "\n",
       "    .dataframe thead th {\n",
       "        text-align: right;\n",
       "    }\n",
       "</style>\n",
       "<table border=\"1\" class=\"dataframe\">\n",
       "  <thead>\n",
       "    <tr style=\"text-align: right;\">\n",
       "      <th></th>\n",
       "      <th>Duration</th>\n",
       "      <th>Start Time</th>\n",
       "      <th>End Time</th>\n",
       "      <th>Trip Route Category</th>\n",
       "      <th>Plan Duration</th>\n",
       "      <th>Passholder Type</th>\n",
       "    </tr>\n",
       "  </thead>\n",
       "  <tbody>\n",
       "    <tr>\n",
       "      <th>0</th>\n",
       "      <td>19</td>\n",
       "      <td>2021-07-01T00:12:00</td>\n",
       "      <td>2021-07-01T00:31:00</td>\n",
       "      <td>One Way</td>\n",
       "      <td>30</td>\n",
       "      <td>Monthly Pass</td>\n",
       "    </tr>\n",
       "    <tr>\n",
       "      <th>1</th>\n",
       "      <td>22</td>\n",
       "      <td>2021-07-01T00:23:00</td>\n",
       "      <td>2021-07-01T00:45:00</td>\n",
       "      <td>Round Trip</td>\n",
       "      <td>30</td>\n",
       "      <td>Monthly Pass</td>\n",
       "    </tr>\n",
       "    <tr>\n",
       "      <th>2</th>\n",
       "      <td>26</td>\n",
       "      <td>2021-07-01T00:34:00</td>\n",
       "      <td>2021-07-01T01:00:00</td>\n",
       "      <td>Round Trip</td>\n",
       "      <td>30</td>\n",
       "      <td>Monthly Pass</td>\n",
       "    </tr>\n",
       "    <tr>\n",
       "      <th>3</th>\n",
       "      <td>17</td>\n",
       "      <td>2021-07-01T00:50:00</td>\n",
       "      <td>2021-07-01T01:07:00</td>\n",
       "      <td>One Way</td>\n",
       "      <td>30</td>\n",
       "      <td>Monthly Pass</td>\n",
       "    </tr>\n",
       "    <tr>\n",
       "      <th>4</th>\n",
       "      <td>15</td>\n",
       "      <td>2021-07-01T02:38:00</td>\n",
       "      <td>2021-07-01T02:53:00</td>\n",
       "      <td>One Way</td>\n",
       "      <td>30</td>\n",
       "      <td>Monthly Pass</td>\n",
       "    </tr>\n",
       "  </tbody>\n",
       "</table>\n",
       "</div>"
      ],
      "text/plain": [
       "   Duration           Start Time             End Time Trip Route Category  \\\n",
       "0        19  2021-07-01T00:12:00  2021-07-01T00:31:00             One Way   \n",
       "1        22  2021-07-01T00:23:00  2021-07-01T00:45:00          Round Trip   \n",
       "2        26  2021-07-01T00:34:00  2021-07-01T01:00:00          Round Trip   \n",
       "3        17  2021-07-01T00:50:00  2021-07-01T01:07:00             One Way   \n",
       "4        15  2021-07-01T02:38:00  2021-07-01T02:53:00             One Way   \n",
       "\n",
       "   Plan Duration Passholder Type  \n",
       "0             30    Monthly Pass  \n",
       "1             30    Monthly Pass  \n",
       "2             30    Monthly Pass  \n",
       "3             30    Monthly Pass  \n",
       "4             30    Monthly Pass  "
      ]
     },
     "execution_count": 178,
     "metadata": {},
     "output_type": "execute_result"
    }
   ],
   "source": [
    "bike_info.head()"
   ]
  },
  {
   "cell_type": "code",
   "execution_count": 179,
   "metadata": {},
   "outputs": [
    {
     "data": {
      "text/plain": [
       "array(['One Way', 'Round Trip'], dtype=object)"
      ]
     },
     "execution_count": 179,
     "metadata": {},
     "output_type": "execute_result"
    }
   ],
   "source": [
    "bike_info['Trip Route Category'].unique()"
   ]
  },
  {
   "cell_type": "code",
   "execution_count": 238,
   "metadata": {},
   "outputs": [
    {
     "data": {
      "text/plain": [
       "array(['Monthly Pass', 'Walk-up', 'Annual Pass', 'One Day Pass',\n",
       "       'Testing'], dtype=object)"
      ]
     },
     "execution_count": 238,
     "metadata": {},
     "output_type": "execute_result"
    }
   ],
   "source": [
    "bike_info['Passholder Type'].unique()"
   ]
  },
  {
   "cell_type": "code",
   "execution_count": 181,
   "metadata": {},
   "outputs": [
    {
     "data": {
      "text/plain": [
       "array([ 30,   1, 365, 999])"
      ]
     },
     "execution_count": 181,
     "metadata": {},
     "output_type": "execute_result"
    }
   ],
   "source": [
    "bike_info['Plan Duration'].unique()"
   ]
  },
  {
   "cell_type": "code",
   "execution_count": 182,
   "metadata": {
    "scrolled": true
   },
   "outputs": [
    {
     "data": {
      "text/html": [
       "<div>\n",
       "<style scoped>\n",
       "    .dataframe tbody tr th:only-of-type {\n",
       "        vertical-align: middle;\n",
       "    }\n",
       "\n",
       "    .dataframe tbody tr th {\n",
       "        vertical-align: top;\n",
       "    }\n",
       "\n",
       "    .dataframe thead th {\n",
       "        text-align: right;\n",
       "    }\n",
       "</style>\n",
       "<table border=\"1\" class=\"dataframe\">\n",
       "  <thead>\n",
       "    <tr style=\"text-align: right;\">\n",
       "      <th></th>\n",
       "      <th>Duration</th>\n",
       "      <th>Plan Duration</th>\n",
       "    </tr>\n",
       "  </thead>\n",
       "  <tbody>\n",
       "    <tr>\n",
       "      <th>count</th>\n",
       "      <td>58411.000000</td>\n",
       "      <td>58411.000000</td>\n",
       "    </tr>\n",
       "    <tr>\n",
       "      <th>mean</th>\n",
       "      <td>45.731455</td>\n",
       "      <td>52.412799</td>\n",
       "    </tr>\n",
       "    <tr>\n",
       "      <th>std</th>\n",
       "      <td>135.685078</td>\n",
       "      <td>108.874373</td>\n",
       "    </tr>\n",
       "    <tr>\n",
       "      <th>min</th>\n",
       "      <td>1.000000</td>\n",
       "      <td>1.000000</td>\n",
       "    </tr>\n",
       "    <tr>\n",
       "      <th>25%</th>\n",
       "      <td>9.000000</td>\n",
       "      <td>1.000000</td>\n",
       "    </tr>\n",
       "    <tr>\n",
       "      <th>50%</th>\n",
       "      <td>18.000000</td>\n",
       "      <td>30.000000</td>\n",
       "    </tr>\n",
       "    <tr>\n",
       "      <th>75%</th>\n",
       "      <td>35.000000</td>\n",
       "      <td>30.000000</td>\n",
       "    </tr>\n",
       "    <tr>\n",
       "      <th>max</th>\n",
       "      <td>1440.000000</td>\n",
       "      <td>999.000000</td>\n",
       "    </tr>\n",
       "  </tbody>\n",
       "</table>\n",
       "</div>"
      ],
      "text/plain": [
       "           Duration  Plan Duration\n",
       "count  58411.000000   58411.000000\n",
       "mean      45.731455      52.412799\n",
       "std      135.685078     108.874373\n",
       "min        1.000000       1.000000\n",
       "25%        9.000000       1.000000\n",
       "50%       18.000000      30.000000\n",
       "75%       35.000000      30.000000\n",
       "max     1440.000000     999.000000"
      ]
     },
     "execution_count": 182,
     "metadata": {},
     "output_type": "execute_result"
    }
   ],
   "source": [
    "bike_info.describe()"
   ]
  },
  {
   "cell_type": "markdown",
   "metadata": {},
   "source": [
    "---"
   ]
  },
  {
   "cell_type": "markdown",
   "metadata": {},
   "source": [
    "# Methodology 😜"
   ]
  },
  {
   "cell_type": "markdown",
   "metadata": {},
   "source": [
    "- **Distribution of Hot Stations**\n",
    "- **Rush Hour Analysis**\n",
    "- **Round Trip/One Way Comparison Analysis**\n",
    "- **relevancy analysis between Duration&Passholder Type**"
   ]
  },
  {
   "cell_type": "markdown",
   "metadata": {},
   "source": [
    "---"
   ]
  },
  {
   "cell_type": "markdown",
   "metadata": {},
   "source": [
    "# Data Analysis 😁"
   ]
  },
  {
   "cell_type": "markdown",
   "metadata": {},
   "source": [
    "### 1）**Distribution of Hot Stations**"
   ]
  },
  {
   "cell_type": "code",
   "execution_count": 236,
   "metadata": {},
   "outputs": [
    {
     "data": {
      "image/png": "[encoded data removed]",
      "text/plain": [
       "<Figure size 640x480 with 1 Axes>"
      ]
     },
     "metadata": {},
     "output_type": "display_data"
    }
   ],
   "source": [
    "pic = st_info.plot(kind=\"scatter\", x=\"Starting Station Longitude\", y=\"Starting Station Latitude\",s = st_info['Counts']/20,\n",
    "                        alpha=1)\n",
    "plt.axis([-118.50,-118.20,34.01,34.07])\n",
    "plt.show()"
   ]
  },
  {
   "cell_type": "markdown",
   "metadata": {},
   "source": [
    "### Conclusion"
   ]
  },
  {
   "cell_type": "markdown",
   "metadata": {},
   "source": [
    "- If there is a **L.A. map** should be better to analysis..."
   ]
  },
  {
   "cell_type": "markdown",
   "metadata": {},
   "source": [
    "---"
   ]
  },
  {
   "cell_type": "markdown",
   "metadata": {},
   "source": [
    "## 2）**Rush Hour Analysis**"
   ]
  },
  {
   "cell_type": "markdown",
   "metadata": {},
   "source": [
    "### *Use Regular Expression to Extract the Time*"
   ]
  },
  {
   "cell_type": "code",
   "execution_count": 184,
   "metadata": {},
   "outputs": [],
   "source": [
    "bike_info = bike_info.dropna()"
   ]
  },
  {
   "cell_type": "code",
   "execution_count": 185,
   "metadata": {},
   "outputs": [],
   "source": [
    "import re\n",
    "from pandas import Series,DataFrame\n",
    "\n",
    "pattern_time = '[0-9][0-9]:[0-9][0-9]:[0-9][0-9]'\n",
    "pattern_hour = '[0-9][0-9]'"
   ]
  },
  {
   "cell_type": "code",
   "execution_count": 186,
   "metadata": {},
   "outputs": [],
   "source": [
    "timelist = []\n",
    "for item in bike_info['Start Time']:\n",
    "    found_times = re.findall(pattern_time, item)\n",
    "    if found_times:  # Check if the list is not empty\n",
    "        timelist.append(found_times[0])\n",
    "    else:\n",
    "        # Handle the case where no time is found\n",
    "        # You could append a default value or continue\n",
    "        # For example:\n",
    "        timelist.append(\"No time found\")\n",
    "        # or simply continue to the next iteration\n",
    "        # continue\n"
   ]
  },
  {
   "cell_type": "code",
   "execution_count": 187,
   "metadata": {},
   "outputs": [
    {
     "data": {
      "text/plain": [
       "['00:12:00', '00:23:00', '00:34:00', '00:50:00', '02:38:00']"
      ]
     },
     "execution_count": 187,
     "metadata": {},
     "output_type": "execute_result"
    }
   ],
   "source": [
    "timelist[:5]"
   ]
  },
  {
   "cell_type": "markdown",
   "metadata": {},
   "source": [
    "### *Extract the Hour*"
   ]
  },
  {
   "cell_type": "code",
   "execution_count": 188,
   "metadata": {},
   "outputs": [],
   "source": [
    "hourlist = []\n",
    "for item in timelist:\n",
    "    hour = re.findall(pattern_hour,item)[0]\n",
    "    hourlist.append(hour)"
   ]
  },
  {
   "cell_type": "code",
   "execution_count": 189,
   "metadata": {},
   "outputs": [
    {
     "data": {
      "text/plain": [
       "['00', '00', '00', '00', '02']"
      ]
     },
     "execution_count": 189,
     "metadata": {},
     "output_type": "execute_result"
    }
   ],
   "source": [
    "hourlist[:5]"
   ]
  },
  {
   "cell_type": "code",
   "execution_count": 190,
   "metadata": {},
   "outputs": [],
   "source": [
    "timeSeries = Series(timelist)\n",
    "hourSeries = Series(hourlist)"
   ]
  },
  {
   "cell_type": "code",
   "execution_count": 191,
   "metadata": {},
   "outputs": [
    {
     "data": {
      "text/html": [
       "<div>\n",
       "<style scoped>\n",
       "    .dataframe tbody tr th:only-of-type {\n",
       "        vertical-align: middle;\n",
       "    }\n",
       "\n",
       "    .dataframe tbody tr th {\n",
       "        vertical-align: top;\n",
       "    }\n",
       "\n",
       "    .dataframe thead th {\n",
       "        text-align: right;\n",
       "    }\n",
       "</style>\n",
       "<table border=\"1\" class=\"dataframe\">\n",
       "  <thead>\n",
       "    <tr style=\"text-align: right;\">\n",
       "      <th></th>\n",
       "      <th>Duration</th>\n",
       "      <th>Start Time</th>\n",
       "      <th>End Time</th>\n",
       "      <th>Trip Route Category</th>\n",
       "      <th>Plan Duration</th>\n",
       "      <th>Passholder Type</th>\n",
       "    </tr>\n",
       "  </thead>\n",
       "  <tbody>\n",
       "    <tr>\n",
       "      <th>0</th>\n",
       "      <td>19</td>\n",
       "      <td>2021-07-01T00:12:00</td>\n",
       "      <td>2021-07-01T00:31:00</td>\n",
       "      <td>One Way</td>\n",
       "      <td>30</td>\n",
       "      <td>Monthly Pass</td>\n",
       "    </tr>\n",
       "    <tr>\n",
       "      <th>1</th>\n",
       "      <td>22</td>\n",
       "      <td>2021-07-01T00:23:00</td>\n",
       "      <td>2021-07-01T00:45:00</td>\n",
       "      <td>Round Trip</td>\n",
       "      <td>30</td>\n",
       "      <td>Monthly Pass</td>\n",
       "    </tr>\n",
       "    <tr>\n",
       "      <th>2</th>\n",
       "      <td>26</td>\n",
       "      <td>2021-07-01T00:34:00</td>\n",
       "      <td>2021-07-01T01:00:00</td>\n",
       "      <td>Round Trip</td>\n",
       "      <td>30</td>\n",
       "      <td>Monthly Pass</td>\n",
       "    </tr>\n",
       "    <tr>\n",
       "      <th>3</th>\n",
       "      <td>17</td>\n",
       "      <td>2021-07-01T00:50:00</td>\n",
       "      <td>2021-07-01T01:07:00</td>\n",
       "      <td>One Way</td>\n",
       "      <td>30</td>\n",
       "      <td>Monthly Pass</td>\n",
       "    </tr>\n",
       "    <tr>\n",
       "      <th>4</th>\n",
       "      <td>15</td>\n",
       "      <td>2021-07-01T02:38:00</td>\n",
       "      <td>2021-07-01T02:53:00</td>\n",
       "      <td>One Way</td>\n",
       "      <td>30</td>\n",
       "      <td>Monthly Pass</td>\n",
       "    </tr>\n",
       "  </tbody>\n",
       "</table>\n",
       "</div>"
      ],
      "text/plain": [
       "   Duration           Start Time             End Time Trip Route Category  \\\n",
       "0        19  2021-07-01T00:12:00  2021-07-01T00:31:00             One Way   \n",
       "1        22  2021-07-01T00:23:00  2021-07-01T00:45:00          Round Trip   \n",
       "2        26  2021-07-01T00:34:00  2021-07-01T01:00:00          Round Trip   \n",
       "3        17  2021-07-01T00:50:00  2021-07-01T01:07:00             One Way   \n",
       "4        15  2021-07-01T02:38:00  2021-07-01T02:53:00             One Way   \n",
       "\n",
       "   Plan Duration Passholder Type  \n",
       "0             30    Monthly Pass  \n",
       "1             30    Monthly Pass  \n",
       "2             30    Monthly Pass  \n",
       "3             30    Monthly Pass  \n",
       "4             30    Monthly Pass  "
      ]
     },
     "execution_count": 191,
     "metadata": {},
     "output_type": "execute_result"
    }
   ],
   "source": [
    "bike_info.head()"
   ]
  },
  {
   "cell_type": "code",
   "execution_count": 192,
   "metadata": {},
   "outputs": [],
   "source": [
    "bike_info.insert(3,'Start Hour',hourSeries)"
   ]
  },
  {
   "cell_type": "code",
   "execution_count": 193,
   "metadata": {},
   "outputs": [
    {
     "data": {
      "text/html": [
       "<div>\n",
       "<style scoped>\n",
       "    .dataframe tbody tr th:only-of-type {\n",
       "        vertical-align: middle;\n",
       "    }\n",
       "\n",
       "    .dataframe tbody tr th {\n",
       "        vertical-align: top;\n",
       "    }\n",
       "\n",
       "    .dataframe thead th {\n",
       "        text-align: right;\n",
       "    }\n",
       "</style>\n",
       "<table border=\"1\" class=\"dataframe\">\n",
       "  <thead>\n",
       "    <tr style=\"text-align: right;\">\n",
       "      <th></th>\n",
       "      <th>Duration</th>\n",
       "      <th>Start Time</th>\n",
       "      <th>End Time</th>\n",
       "      <th>Start Hour</th>\n",
       "      <th>Trip Route Category</th>\n",
       "      <th>Plan Duration</th>\n",
       "      <th>Passholder Type</th>\n",
       "    </tr>\n",
       "  </thead>\n",
       "  <tbody>\n",
       "    <tr>\n",
       "      <th>0</th>\n",
       "      <td>19</td>\n",
       "      <td>2021-07-01T00:12:00</td>\n",
       "      <td>2021-07-01T00:31:00</td>\n",
       "      <td>00</td>\n",
       "      <td>One Way</td>\n",
       "      <td>30</td>\n",
       "      <td>Monthly Pass</td>\n",
       "    </tr>\n",
       "    <tr>\n",
       "      <th>1</th>\n",
       "      <td>22</td>\n",
       "      <td>2021-07-01T00:23:00</td>\n",
       "      <td>2021-07-01T00:45:00</td>\n",
       "      <td>00</td>\n",
       "      <td>Round Trip</td>\n",
       "      <td>30</td>\n",
       "      <td>Monthly Pass</td>\n",
       "    </tr>\n",
       "    <tr>\n",
       "      <th>2</th>\n",
       "      <td>26</td>\n",
       "      <td>2021-07-01T00:34:00</td>\n",
       "      <td>2021-07-01T01:00:00</td>\n",
       "      <td>00</td>\n",
       "      <td>Round Trip</td>\n",
       "      <td>30</td>\n",
       "      <td>Monthly Pass</td>\n",
       "    </tr>\n",
       "    <tr>\n",
       "      <th>3</th>\n",
       "      <td>17</td>\n",
       "      <td>2021-07-01T00:50:00</td>\n",
       "      <td>2021-07-01T01:07:00</td>\n",
       "      <td>00</td>\n",
       "      <td>One Way</td>\n",
       "      <td>30</td>\n",
       "      <td>Monthly Pass</td>\n",
       "    </tr>\n",
       "    <tr>\n",
       "      <th>4</th>\n",
       "      <td>15</td>\n",
       "      <td>2021-07-01T02:38:00</td>\n",
       "      <td>2021-07-01T02:53:00</td>\n",
       "      <td>02</td>\n",
       "      <td>One Way</td>\n",
       "      <td>30</td>\n",
       "      <td>Monthly Pass</td>\n",
       "    </tr>\n",
       "  </tbody>\n",
       "</table>\n",
       "</div>"
      ],
      "text/plain": [
       "   Duration           Start Time             End Time Start Hour  \\\n",
       "0        19  2021-07-01T00:12:00  2021-07-01T00:31:00         00   \n",
       "1        22  2021-07-01T00:23:00  2021-07-01T00:45:00         00   \n",
       "2        26  2021-07-01T00:34:00  2021-07-01T01:00:00         00   \n",
       "3        17  2021-07-01T00:50:00  2021-07-01T01:07:00         00   \n",
       "4        15  2021-07-01T02:38:00  2021-07-01T02:53:00         02   \n",
       "\n",
       "  Trip Route Category  Plan Duration Passholder Type  \n",
       "0             One Way             30    Monthly Pass  \n",
       "1          Round Trip             30    Monthly Pass  \n",
       "2          Round Trip             30    Monthly Pass  \n",
       "3             One Way             30    Monthly Pass  \n",
       "4             One Way             30    Monthly Pass  "
      ]
     },
     "execution_count": 193,
     "metadata": {},
     "output_type": "execute_result"
    }
   ],
   "source": [
    "bike_info.head()"
   ]
  },
  {
   "cell_type": "code",
   "execution_count": 194,
   "metadata": {},
   "outputs": [],
   "source": [
    "Start_Hour_counts = bike_info['Start Hour'].value_counts().sort_index()"
   ]
  },
  {
   "cell_type": "code",
   "execution_count": 195,
   "metadata": {
    "scrolled": false
   },
   "outputs": [
    {
     "name": "stdout",
     "output_type": "stream",
     "text": [
      "[0, 1, 2, 3, 4, 5, 6, 7, 8, 9, 10, 11, 12, 13, 14, 15, 16, 17, 18, 19, 20, 21, 22, 23]\n",
      "[586, 297, 233, 155, 142, 148, 484, 1221, 1844, 2460, 2802, 3243, 3812, 4268, 4342, 4414, 4711, 5402, 5713, 4424, 3027, 2142, 1613, 928]\n"
     ]
    },
    {
     "data": {
      "text/plain": [
       "'/home/robot/Desktop/SoftRice/LASharedBikeAnalysis-main/Process_data/rush-hour-line.html'"
      ]
     },
     "execution_count": 195,
     "metadata": {},
     "output_type": "execute_result"
    }
   ],
   "source": [
    "\n",
    "from pyecharts.charts import Line\n",
    "from pyecharts import options as opts\n",
    "\n",
    "# # Use your data\n",
    "# x_data = [0, 1, 2, 3, 4, 5, 6, 7, 8, 9, 10, 11, 12, 13, 14, 15, 16, 17, 18, 19, 20, 21, 22, 23]\n",
    "# y_data = [1771, 1337, 864, 445, 417, 559, 1735, 4684, 6805, 6210, 5356, 7546, 9920, 9628, 8356, 8231, 9863, 11606, 10347, 7876, 5946, 4845, 3799, 2757]\n",
    "attr = list(map(int, Start_Hour_counts.index))\n",
    "print(attr)\n",
    "v = Start_Hour_counts.values.tolist()\n",
    "print(v)\n",
    "# Create a line chart\n",
    "line = Line(init_opts=opts.InitOpts(width='1000px', height='400px'))\n",
    "line.add_xaxis(attr)\n",
    "line.add_yaxis(\"\", v, markpoint_opts=opts.MarkPointOpts(data=[opts.MarkPointItem(type_='max'), opts.MarkPointItem(type_='min')]))\n",
    "line.set_series_opts(label_opts=opts.LabelOpts(is_show=False))\n",
    "line.set_global_opts(title_opts=opts.TitleOpts(title='Rush Hour Analysis'))\n",
    "\n",
    "# Save the chart to an HTML file\n",
    "line.render('rush-hour-line.html')\n"
   ]
  },
  {
   "cell_type": "markdown",
   "metadata": {},
   "source": [
    "### Conclusion"
   ]
  },
  {
   "cell_type": "markdown",
   "metadata": {},
   "source": [
    "- Shared-bike riders usually choose to start their trip at **7a.m.-23p.m.**\n",
    "- **7a.m.-10a.m.**morning peak period, **10a.m.-13a.m.**afternoon peak period and **16a.m.-18a.m.**evening peak period shows significant increase in shared-bike use\n",
    "- The peak of use is **18p.m.**, which is presumed to be **the evening peak**\n",
    "- The lowest point of use is **4a.m**,few shared-bikes are used in mid-night\n",
    "- From the peak to the lowest point is a **complete downward trend**, with the vehicle gradually reduced"
   ]
  },
  {
   "cell_type": "markdown",
   "metadata": {},
   "source": [
    "---"
   ]
  },
  {
   "cell_type": "markdown",
   "metadata": {},
   "source": [
    "\n",
    "## 3）**Relevancy Analysis Between Duration&Passholder Type**"
   ]
  },
  {
   "cell_type": "code",
   "execution_count": 196,
   "metadata": {},
   "outputs": [
    {
     "data": {
      "text/html": [
       "<div>\n",
       "<style scoped>\n",
       "    .dataframe tbody tr th:only-of-type {\n",
       "        vertical-align: middle;\n",
       "    }\n",
       "\n",
       "    .dataframe tbody tr th {\n",
       "        vertical-align: top;\n",
       "    }\n",
       "\n",
       "    .dataframe thead th {\n",
       "        text-align: right;\n",
       "    }\n",
       "</style>\n",
       "<table border=\"1\" class=\"dataframe\">\n",
       "  <thead>\n",
       "    <tr style=\"text-align: right;\">\n",
       "      <th></th>\n",
       "      <th>Duration</th>\n",
       "      <th>Trip Route Category</th>\n",
       "      <th>Plan Duration</th>\n",
       "      <th>Passholder Type</th>\n",
       "    </tr>\n",
       "  </thead>\n",
       "  <tbody>\n",
       "    <tr>\n",
       "      <th>0</th>\n",
       "      <td>19</td>\n",
       "      <td>One Way</td>\n",
       "      <td>30</td>\n",
       "      <td>Monthly Pass</td>\n",
       "    </tr>\n",
       "    <tr>\n",
       "      <th>1</th>\n",
       "      <td>22</td>\n",
       "      <td>Round Trip</td>\n",
       "      <td>30</td>\n",
       "      <td>Monthly Pass</td>\n",
       "    </tr>\n",
       "    <tr>\n",
       "      <th>2</th>\n",
       "      <td>26</td>\n",
       "      <td>Round Trip</td>\n",
       "      <td>30</td>\n",
       "      <td>Monthly Pass</td>\n",
       "    </tr>\n",
       "    <tr>\n",
       "      <th>3</th>\n",
       "      <td>17</td>\n",
       "      <td>One Way</td>\n",
       "      <td>30</td>\n",
       "      <td>Monthly Pass</td>\n",
       "    </tr>\n",
       "    <tr>\n",
       "      <th>4</th>\n",
       "      <td>15</td>\n",
       "      <td>One Way</td>\n",
       "      <td>30</td>\n",
       "      <td>Monthly Pass</td>\n",
       "    </tr>\n",
       "  </tbody>\n",
       "</table>\n",
       "</div>"
      ],
      "text/plain": [
       "   Duration Trip Route Category  Plan Duration Passholder Type\n",
       "0        19             One Way             30    Monthly Pass\n",
       "1        22          Round Trip             30    Monthly Pass\n",
       "2        26          Round Trip             30    Monthly Pass\n",
       "3        17             One Way             30    Monthly Pass\n",
       "4        15             One Way             30    Monthly Pass"
      ]
     },
     "execution_count": 196,
     "metadata": {},
     "output_type": "execute_result"
    }
   ],
   "source": [
    "bike_trip_info = bike_info[['Duration','Trip Route Category','Plan Duration','Passholder Type']]\n",
    "bike_trip_info.head()"
   ]
  },
  {
   "cell_type": "markdown",
   "metadata": {},
   "source": [
    "### *Cluster by Duration*"
   ]
  },
  {
   "cell_type": "code",
   "execution_count": 197,
   "metadata": {},
   "outputs": [
    {
     "data": {
      "text/html": [
       "<div>\n",
       "<style scoped>\n",
       "    .dataframe tbody tr th:only-of-type {\n",
       "        vertical-align: middle;\n",
       "    }\n",
       "\n",
       "    .dataframe tbody tr th {\n",
       "        vertical-align: top;\n",
       "    }\n",
       "\n",
       "    .dataframe thead th {\n",
       "        text-align: right;\n",
       "    }\n",
       "</style>\n",
       "<table border=\"1\" class=\"dataframe\">\n",
       "  <thead>\n",
       "    <tr style=\"text-align: right;\">\n",
       "      <th></th>\n",
       "      <th>Duration</th>\n",
       "    </tr>\n",
       "  </thead>\n",
       "  <tbody>\n",
       "    <tr>\n",
       "      <th>0</th>\n",
       "      <td>19</td>\n",
       "    </tr>\n",
       "    <tr>\n",
       "      <th>1</th>\n",
       "      <td>22</td>\n",
       "    </tr>\n",
       "    <tr>\n",
       "      <th>2</th>\n",
       "      <td>26</td>\n",
       "    </tr>\n",
       "    <tr>\n",
       "      <th>3</th>\n",
       "      <td>17</td>\n",
       "    </tr>\n",
       "    <tr>\n",
       "      <th>4</th>\n",
       "      <td>15</td>\n",
       "    </tr>\n",
       "  </tbody>\n",
       "</table>\n",
       "</div>"
      ],
      "text/plain": [
       "   Duration\n",
       "0        19\n",
       "1        22\n",
       "2        26\n",
       "3        17\n",
       "4        15"
      ]
     },
     "execution_count": 197,
     "metadata": {},
     "output_type": "execute_result"
    }
   ],
   "source": [
    "duration = bike_trip_info[['Duration']]\n",
    "duration.head()"
   ]
  },
  {
   "cell_type": "code",
   "execution_count": 198,
   "metadata": {},
   "outputs": [
    {
     "data": {
      "text/html": [
       "<style>#sk-container-id-3 {color: black;}#sk-container-id-3 pre{padding: 0;}#sk-container-id-3 div.sk-toggleable {background-color: white;}#sk-container-id-3 label.sk-toggleable__label {cursor: pointer;display: block;width: 100%;margin-bottom: 0;padding: 0.3em;box-sizing: border-box;text-align: center;}#sk-container-id-3 label.sk-toggleable__label-arrow:before {content: \"▸\";float: left;margin-right: 0.25em;color: #696969;}#sk-container-id-3 label.sk-toggleable__label-arrow:hover:before {color: black;}#sk-container-id-3 div.sk-estimator:hover label.sk-toggleable__label-arrow:before {color: black;}#sk-container-id-3 div.sk-toggleable__content {max-height: 0;max-width: 0;overflow: hidden;text-align: left;background-color: #f0f8ff;}#sk-container-id-3 div.sk-toggleable__content pre {margin: 0.2em;color: black;border-radius: 0.25em;background-color: #f0f8ff;}#sk-container-id-3 input.sk-toggleable__control:checked~div.sk-toggleable__content {max-height: 200px;max-width: 100%;overflow: auto;}#sk-container-id-3 input.sk-toggleable__control:checked~label.sk-toggleable__label-arrow:before {content: \"▾\";}#sk-container-id-3 div.sk-estimator input.sk-toggleable__control:checked~label.sk-toggleable__label {background-color: #d4ebff;}#sk-container-id-3 div.sk-label input.sk-toggleable__control:checked~label.sk-toggleable__label {background-color: #d4ebff;}#sk-container-id-3 input.sk-hidden--visually {border: 0;clip: rect(1px 1px 1px 1px);clip: rect(1px, 1px, 1px, 1px);height: 1px;margin: -1px;overflow: hidden;padding: 0;position: absolute;width: 1px;}#sk-container-id-3 div.sk-estimator {font-family: monospace;background-color: #f0f8ff;border: 1px dotted black;border-radius: 0.25em;box-sizing: border-box;margin-bottom: 0.5em;}#sk-container-id-3 div.sk-estimator:hover {background-color: #d4ebff;}#sk-container-id-3 div.sk-parallel-item::after {content: \"\";width: 100%;border-bottom: 1px solid gray;flex-grow: 1;}#sk-container-id-3 div.sk-label:hover label.sk-toggleable__label {background-color: #d4ebff;}#sk-container-id-3 div.sk-serial::before {content: \"\";position: absolute;border-left: 1px solid gray;box-sizing: border-box;top: 0;bottom: 0;left: 50%;z-index: 0;}#sk-container-id-3 div.sk-serial {display: flex;flex-direction: column;align-items: center;background-color: white;padding-right: 0.2em;padding-left: 0.2em;position: relative;}#sk-container-id-3 div.sk-item {position: relative;z-index: 1;}#sk-container-id-3 div.sk-parallel {display: flex;align-items: stretch;justify-content: center;background-color: white;position: relative;}#sk-container-id-3 div.sk-item::before, #sk-container-id-3 div.sk-parallel-item::before {content: \"\";position: absolute;border-left: 1px solid gray;box-sizing: border-box;top: 0;bottom: 0;left: 50%;z-index: -1;}#sk-container-id-3 div.sk-parallel-item {display: flex;flex-direction: column;z-index: 1;position: relative;background-color: white;}#sk-container-id-3 div.sk-parallel-item:first-child::after {align-self: flex-end;width: 50%;}#sk-container-id-3 div.sk-parallel-item:last-child::after {align-self: flex-start;width: 50%;}#sk-container-id-3 div.sk-parallel-item:only-child::after {width: 0;}#sk-container-id-3 div.sk-dashed-wrapped {border: 1px dashed gray;margin: 0 0.4em 0.5em 0.4em;box-sizing: border-box;padding-bottom: 0.4em;background-color: white;}#sk-container-id-3 div.sk-label label {font-family: monospace;font-weight: bold;display: inline-block;line-height: 1.2em;}#sk-container-id-3 div.sk-label-container {text-align: center;}#sk-container-id-3 div.sk-container {/* jupyter's `normalize.less` sets `[hidden] { display: none; }` but bootstrap.min.css set `[hidden] { display: none !important; }` so we also need the `!important` here to be able to override the default hidden behavior on the sphinx rendered scikit-learn.org. See: https://github.com/scikit-learn/scikit-learn/issues/21755 */display: inline-block !important;position: relative;}#sk-container-id-3 div.sk-text-repr-fallback {display: none;}</style><div id=\"sk-container-id-3\" class=\"sk-top-container\"><div class=\"sk-text-repr-fallback\"><pre>KMeans(n_clusters=4)</pre><b>In a Jupyter environment, please rerun this cell to show the HTML representation or trust the notebook. <br />On GitHub, the HTML representation is unable to render, please try loading this page with nbviewer.org.</b></div><div class=\"sk-container\" hidden><div class=\"sk-item\"><div class=\"sk-estimator sk-toggleable\"><input class=\"sk-toggleable__control sk-hidden--visually\" id=\"sk-estimator-id-3\" type=\"checkbox\" checked><label for=\"sk-estimator-id-3\" class=\"sk-toggleable__label sk-toggleable__label-arrow\">KMeans</label><div class=\"sk-toggleable__content\"><pre>KMeans(n_clusters=4)</pre></div></div></div></div></div>"
      ],
      "text/plain": [
       "KMeans(n_clusters=4)"
      ]
     },
     "execution_count": 198,
     "metadata": {},
     "output_type": "execute_result"
    }
   ],
   "source": [
    "from sklearn.cluster import KMeans \n",
    "k=4 \n",
    "kmodel = KMeans(n_clusters=k)\n",
    "kmodel.fit(duration)"
   ]
  },
  {
   "cell_type": "code",
   "execution_count": 239,
   "metadata": {},
   "outputs": [
    {
     "data": {
      "text/plain": [
       "array([[  21.05876792],\n",
       "       [1357.48583878],\n",
       "       [ 144.60272805],\n",
       "       [ 684.34224599]])"
      ]
     },
     "execution_count": 239,
     "metadata": {},
     "output_type": "execute_result"
    }
   ],
   "source": [
    "kmodel.cluster_centers_"
   ]
  },
  {
   "cell_type": "code",
   "execution_count": 200,
   "metadata": {},
   "outputs": [
    {
     "data": {
      "text/html": [
       "<div>\n",
       "<style scoped>\n",
       "    .dataframe tbody tr th:only-of-type {\n",
       "        vertical-align: middle;\n",
       "    }\n",
       "\n",
       "    .dataframe tbody tr th {\n",
       "        vertical-align: top;\n",
       "    }\n",
       "\n",
       "    .dataframe thead th {\n",
       "        text-align: right;\n",
       "    }\n",
       "</style>\n",
       "<table border=\"1\" class=\"dataframe\">\n",
       "  <thead>\n",
       "    <tr style=\"text-align: right;\">\n",
       "      <th></th>\n",
       "      <th>Duration</th>\n",
       "      <th>Duration Class</th>\n",
       "    </tr>\n",
       "  </thead>\n",
       "  <tbody>\n",
       "    <tr>\n",
       "      <th>0</th>\n",
       "      <td>21.058768</td>\n",
       "      <td>short-time</td>\n",
       "    </tr>\n",
       "    <tr>\n",
       "      <th>2</th>\n",
       "      <td>144.602728</td>\n",
       "      <td>medium-time</td>\n",
       "    </tr>\n",
       "    <tr>\n",
       "      <th>3</th>\n",
       "      <td>684.342246</td>\n",
       "      <td>long-time</td>\n",
       "    </tr>\n",
       "    <tr>\n",
       "      <th>1</th>\n",
       "      <td>1357.485839</td>\n",
       "      <td>very-long-time</td>\n",
       "    </tr>\n",
       "  </tbody>\n",
       "</table>\n",
       "</div>"
      ],
      "text/plain": [
       "      Duration  Duration Class\n",
       "0    21.058768      short-time\n",
       "2   144.602728     medium-time\n",
       "3   684.342246       long-time\n",
       "1  1357.485839  very-long-time"
      ]
     },
     "execution_count": 200,
     "metadata": {},
     "output_type": "execute_result"
    }
   ],
   "source": [
    "\n",
    "c = pd.DataFrame(kmodel.cluster_centers_).sort_values(0)\n",
    "c['Duration Class'] = ['short-time','medium-time','long-time','very-long-time']\n",
    "c.columns=['Duration','Duration Class']\n",
    "c"
   ]
  },
  {
   "cell_type": "code",
   "execution_count": 201,
   "metadata": {},
   "outputs": [],
   "source": [
    "short = c[c['Duration Class']=='short-time'].index[0]\n",
    "medium = c[c['Duration Class']=='medium-time'].index[0]\n",
    "long = c[c['Duration Class']=='long-time'].index[0]\n",
    "verylong = c[c['Duration Class']=='very-long-time'].index[0]"
   ]
  },
  {
   "cell_type": "code",
   "execution_count": 202,
   "metadata": {},
   "outputs": [],
   "source": [
    "\n",
    "duration_map = {\n",
    "    short:'short-time',\n",
    "    medium:'medium-time',\n",
    "    long:'long-time',\n",
    "    verylong:'very-long-time'\n",
    "}"
   ]
  },
  {
   "cell_type": "code",
   "execution_count": 203,
   "metadata": {},
   "outputs": [],
   "source": [
    "labels = kmodel.labels_\n"
   ]
  },
  {
   "cell_type": "markdown",
   "metadata": {},
   "source": [
    "### **Insert the Results Into the** ***Bike_Trip_Info***"
   ]
  },
  {
   "cell_type": "code",
   "execution_count": 204,
   "metadata": {},
   "outputs": [],
   "source": [
    "bike_trip_info.insert(1,'Duration Class',labels)"
   ]
  },
  {
   "cell_type": "code",
   "execution_count": 205,
   "metadata": {},
   "outputs": [],
   "source": [
    "bike_trip_info['Duration Class'] = bike_trip_info['Duration Class'].map(duration_map)"
   ]
  },
  {
   "cell_type": "code",
   "execution_count": 206,
   "metadata": {},
   "outputs": [
    {
     "data": {
      "text/html": [
       "<div>\n",
       "<style scoped>\n",
       "    .dataframe tbody tr th:only-of-type {\n",
       "        vertical-align: middle;\n",
       "    }\n",
       "\n",
       "    .dataframe tbody tr th {\n",
       "        vertical-align: top;\n",
       "    }\n",
       "\n",
       "    .dataframe thead th {\n",
       "        text-align: right;\n",
       "    }\n",
       "</style>\n",
       "<table border=\"1\" class=\"dataframe\">\n",
       "  <thead>\n",
       "    <tr style=\"text-align: right;\">\n",
       "      <th></th>\n",
       "      <th>Duration</th>\n",
       "      <th>Duration Class</th>\n",
       "      <th>Trip Route Category</th>\n",
       "      <th>Plan Duration</th>\n",
       "      <th>Passholder Type</th>\n",
       "    </tr>\n",
       "  </thead>\n",
       "  <tbody>\n",
       "    <tr>\n",
       "      <th>0</th>\n",
       "      <td>19</td>\n",
       "      <td>short-time</td>\n",
       "      <td>One Way</td>\n",
       "      <td>30</td>\n",
       "      <td>Monthly Pass</td>\n",
       "    </tr>\n",
       "    <tr>\n",
       "      <th>1</th>\n",
       "      <td>22</td>\n",
       "      <td>short-time</td>\n",
       "      <td>Round Trip</td>\n",
       "      <td>30</td>\n",
       "      <td>Monthly Pass</td>\n",
       "    </tr>\n",
       "    <tr>\n",
       "      <th>2</th>\n",
       "      <td>26</td>\n",
       "      <td>short-time</td>\n",
       "      <td>Round Trip</td>\n",
       "      <td>30</td>\n",
       "      <td>Monthly Pass</td>\n",
       "    </tr>\n",
       "    <tr>\n",
       "      <th>3</th>\n",
       "      <td>17</td>\n",
       "      <td>short-time</td>\n",
       "      <td>One Way</td>\n",
       "      <td>30</td>\n",
       "      <td>Monthly Pass</td>\n",
       "    </tr>\n",
       "    <tr>\n",
       "      <th>4</th>\n",
       "      <td>15</td>\n",
       "      <td>short-time</td>\n",
       "      <td>One Way</td>\n",
       "      <td>30</td>\n",
       "      <td>Monthly Pass</td>\n",
       "    </tr>\n",
       "  </tbody>\n",
       "</table>\n",
       "</div>"
      ],
      "text/plain": [
       "   Duration Duration Class Trip Route Category  Plan Duration Passholder Type\n",
       "0        19     short-time             One Way             30    Monthly Pass\n",
       "1        22     short-time          Round Trip             30    Monthly Pass\n",
       "2        26     short-time          Round Trip             30    Monthly Pass\n",
       "3        17     short-time             One Way             30    Monthly Pass\n",
       "4        15     short-time             One Way             30    Monthly Pass"
      ]
     },
     "execution_count": 206,
     "metadata": {},
     "output_type": "execute_result"
    }
   ],
   "source": [
    "bike_trip_info.head()"
   ]
  },
  {
   "cell_type": "markdown",
   "metadata": {},
   "source": [
    "### *Check the Number of Each Duration*"
   ]
  },
  {
   "cell_type": "code",
   "execution_count": 207,
   "metadata": {
    "scrolled": true
   },
   "outputs": [
    {
     "data": {
      "text/plain": [
       "Duration Class\n",
       "short-time        52886\n",
       "medium-time        4692\n",
       "very-long-time      459\n",
       "long-time           374\n",
       "Name: count, dtype: int64"
      ]
     },
     "execution_count": 207,
     "metadata": {},
     "output_type": "execute_result"
    }
   ],
   "source": [
    "bike_trip_info['Duration Class'].value_counts()"
   ]
  },
  {
   "cell_type": "markdown",
   "metadata": {},
   "source": [
    "---"
   ]
  },
  {
   "cell_type": "markdown",
   "metadata": {},
   "source": [
    "### Duration Class Search"
   ]
  },
  {
   "cell_type": "markdown",
   "metadata": {},
   "source": [
    "#### very-long-time Search"
   ]
  },
  {
   "cell_type": "code",
   "execution_count": 208,
   "metadata": {},
   "outputs": [
    {
     "data": {
      "text/plain": [
       "Plan Duration\n",
       "1      0.923747\n",
       "30     0.065359\n",
       "365    0.010893\n",
       "Name: count, dtype: float64"
      ]
     },
     "execution_count": 208,
     "metadata": {},
     "output_type": "execute_result"
    }
   ],
   "source": [
    "verylong_counts = bike_trip_info[bike_trip_info['Duration Class']=='very-long-time']['Plan Duration'].value_counts()\n",
    "series1 = verylong_counts/sum(verylong_counts)\n",
    "series1"
   ]
  },
  {
   "cell_type": "markdown",
   "metadata": {},
   "source": [
    "#### long-time Search"
   ]
  },
  {
   "cell_type": "code",
   "execution_count": 209,
   "metadata": {},
   "outputs": [],
   "source": [
    "long_counts = bike_trip_info[bike_trip_info['Duration Class']=='long-time']['Plan Duration'].value_counts()\n",
    "series2 = long_counts/sum(long_counts)"
   ]
  },
  {
   "cell_type": "markdown",
   "metadata": {},
   "source": [
    "#### medium-time Search"
   ]
  },
  {
   "cell_type": "code",
   "execution_count": 210,
   "metadata": {},
   "outputs": [],
   "source": [
    "medium_counts = bike_trip_info[bike_trip_info['Duration Class']=='medium-time']['Plan Duration'].value_counts()\n",
    "series3 = medium_counts/sum(medium_counts)"
   ]
  },
  {
   "cell_type": "markdown",
   "metadata": {},
   "source": [
    "#### short-time Search"
   ]
  },
  {
   "cell_type": "code",
   "execution_count": 211,
   "metadata": {},
   "outputs": [],
   "source": [
    "short_counts = bike_trip_info[bike_trip_info['Duration Class']=='short-time']['Plan Duration'].value_counts()\n",
    "series4 = short_counts/sum(short_counts)\n",
    "series4 = series4.sort_index()"
   ]
  },
  {
   "cell_type": "markdown",
   "metadata": {},
   "source": [
    "---"
   ]
  },
  {
   "cell_type": "markdown",
   "metadata": {},
   "source": [
    "### **Radar Chart**"
   ]
  },
  {
   "cell_type": "code",
   "execution_count": 212,
   "metadata": {},
   "outputs": [],
   "source": [
    "min_length = min(len(series1), len(series2), len(series3), len(series4))\n",
    " \n",
    "series1 = series1[:min_length]\n",
    "series2 = series2[:min_length]\n",
    "series3 = series3[:min_length]\n",
    "series4 = series4[:min_length]"
   ]
  },
  {
   "cell_type": "code",
   "execution_count": 213,
   "metadata": {},
   "outputs": [],
   "source": [
    "duration_rate = pd.DataFrame(list(zip(series1,series2,series3)))"
   ]
  },
  {
   "cell_type": "code",
   "execution_count": 214,
   "metadata": {},
   "outputs": [],
   "source": [
    "duration_rate.columns = ['very-long-time','long-time','medium-time']\n",
    "duration_rate.index = ['0','30','365']"
   ]
  },
  {
   "cell_type": "code",
   "execution_count": 215,
   "metadata": {},
   "outputs": [],
   "source": [
    "duration_rate = duration_rate[['medium-time','long-time','very-long-time']]\n",
    "duration_rate.insert(0,'short-time',series4.values)"
   ]
  },
  {
   "cell_type": "code",
   "execution_count": 216,
   "metadata": {},
   "outputs": [
    {
     "data": {
      "text/html": [
       "<div>\n",
       "<style scoped>\n",
       "    .dataframe tbody tr th:only-of-type {\n",
       "        vertical-align: middle;\n",
       "    }\n",
       "\n",
       "    .dataframe tbody tr th {\n",
       "        vertical-align: top;\n",
       "    }\n",
       "\n",
       "    .dataframe thead th {\n",
       "        text-align: right;\n",
       "    }\n",
       "</style>\n",
       "<table border=\"1\" class=\"dataframe\">\n",
       "  <thead>\n",
       "    <tr style=\"text-align: right;\">\n",
       "      <th></th>\n",
       "      <th>short-time</th>\n",
       "      <th>medium-time</th>\n",
       "      <th>long-time</th>\n",
       "      <th>very-long-time</th>\n",
       "    </tr>\n",
       "  </thead>\n",
       "  <tbody>\n",
       "    <tr>\n",
       "      <th>0</th>\n",
       "      <td>0.414458</td>\n",
       "      <td>0.873828</td>\n",
       "      <td>0.860963</td>\n",
       "      <td>0.923747</td>\n",
       "    </tr>\n",
       "    <tr>\n",
       "      <th>30</th>\n",
       "      <td>0.469727</td>\n",
       "      <td>0.109335</td>\n",
       "      <td>0.101604</td>\n",
       "      <td>0.065359</td>\n",
       "    </tr>\n",
       "    <tr>\n",
       "      <th>365</th>\n",
       "      <td>0.115796</td>\n",
       "      <td>0.016837</td>\n",
       "      <td>0.037433</td>\n",
       "      <td>0.010893</td>\n",
       "    </tr>\n",
       "  </tbody>\n",
       "</table>\n",
       "</div>"
      ],
      "text/plain": [
       "     short-time  medium-time  long-time  very-long-time\n",
       "0      0.414458     0.873828   0.860963        0.923747\n",
       "30     0.469727     0.109335   0.101604        0.065359\n",
       "365    0.115796     0.016837   0.037433        0.010893"
      ]
     },
     "execution_count": 216,
     "metadata": {},
     "output_type": "execute_result"
    }
   ],
   "source": [
    "duration_rate"
   ]
  },
  {
   "cell_type": "code",
   "execution_count": 217,
   "metadata": {},
   "outputs": [
    {
     "data": {
      "text/plain": [
       "'/home/robot/Desktop/SoftRice/LASharedBikeAnalysis-main/Process_data/duration-rate-radar.html'"
      ]
     },
     "execution_count": 217,
     "metadata": {},
     "output_type": "execute_result"
    }
   ],
   "source": [
    "from pyecharts.charts import Radar\n",
    "from pyecharts import options as opts\n",
    "\n",
    "schema = [(\"0\", 0.81), (\"30\", 0.63), (\"365\", 0.08)]\n",
    "v1 = [duration_rate['short-time'].values.round(2).tolist()]\n",
    "v2 = [duration_rate['medium-time'].values.round(2).tolist()]\n",
    "\n",
    "radar = Radar(init_opts=opts.InitOpts(width='1000px', height='400px'))\n",
    "radar.add_schema(schema=schema, shape='circle')\n",
    "radar.add(\"Short Time\", v1)\n",
    "radar.add(\"Medium Time\", v2)\n",
    "radar.set_series_opts(label_opts=opts.LabelOpts(is_show=False))\n",
    "radar.set_global_opts(title_opts=opts.TitleOpts(title='Duration Rate Analysis'))\n",
    "\n",
    "radar.render('duration-rate-radar.html')\n"
   ]
  },
  {
   "cell_type": "markdown",
   "metadata": {},
   "source": [
    "### Conclusion"
   ]
  },
  {
   "cell_type": "markdown",
   "metadata": {},
   "source": [
    "- The **majority** of users who use shared-bikes for a **very-long-time** are those who use them **immediately**.\n",
    "- **Over 60%** of users who use shared-bikes for a **short-time** are those who possess **Monthly-Pass**.\n",
    "-  The percentage of those who possess Flex-Pass among **short-time trip** bike users is also the **highest among all types**."
   ]
  },
  {
   "cell_type": "markdown",
   "metadata": {},
   "source": [
    "---"
   ]
  },
  {
   "cell_type": "markdown",
   "metadata": {},
   "source": [
    "## 4）Round Trip/One Way Comparison Analysis"
   ]
  },
  {
   "cell_type": "code",
   "execution_count": 218,
   "metadata": {},
   "outputs": [
    {
     "data": {
      "text/html": [
       "<div>\n",
       "<style scoped>\n",
       "    .dataframe tbody tr th:only-of-type {\n",
       "        vertical-align: middle;\n",
       "    }\n",
       "\n",
       "    .dataframe tbody tr th {\n",
       "        vertical-align: top;\n",
       "    }\n",
       "\n",
       "    .dataframe thead th {\n",
       "        text-align: right;\n",
       "    }\n",
       "</style>\n",
       "<table border=\"1\" class=\"dataframe\">\n",
       "  <thead>\n",
       "    <tr style=\"text-align: right;\">\n",
       "      <th></th>\n",
       "      <th>Duration</th>\n",
       "      <th>Start Time</th>\n",
       "      <th>End Time</th>\n",
       "      <th>Start Hour</th>\n",
       "      <th>Trip Route Category</th>\n",
       "      <th>Plan Duration</th>\n",
       "      <th>Passholder Type</th>\n",
       "    </tr>\n",
       "  </thead>\n",
       "  <tbody>\n",
       "    <tr>\n",
       "      <th>0</th>\n",
       "      <td>19</td>\n",
       "      <td>2021-07-01T00:12:00</td>\n",
       "      <td>2021-07-01T00:31:00</td>\n",
       "      <td>00</td>\n",
       "      <td>One Way</td>\n",
       "      <td>30</td>\n",
       "      <td>Monthly Pass</td>\n",
       "    </tr>\n",
       "    <tr>\n",
       "      <th>1</th>\n",
       "      <td>22</td>\n",
       "      <td>2021-07-01T00:23:00</td>\n",
       "      <td>2021-07-01T00:45:00</td>\n",
       "      <td>00</td>\n",
       "      <td>Round Trip</td>\n",
       "      <td>30</td>\n",
       "      <td>Monthly Pass</td>\n",
       "    </tr>\n",
       "    <tr>\n",
       "      <th>2</th>\n",
       "      <td>26</td>\n",
       "      <td>2021-07-01T00:34:00</td>\n",
       "      <td>2021-07-01T01:00:00</td>\n",
       "      <td>00</td>\n",
       "      <td>Round Trip</td>\n",
       "      <td>30</td>\n",
       "      <td>Monthly Pass</td>\n",
       "    </tr>\n",
       "    <tr>\n",
       "      <th>3</th>\n",
       "      <td>17</td>\n",
       "      <td>2021-07-01T00:50:00</td>\n",
       "      <td>2021-07-01T01:07:00</td>\n",
       "      <td>00</td>\n",
       "      <td>One Way</td>\n",
       "      <td>30</td>\n",
       "      <td>Monthly Pass</td>\n",
       "    </tr>\n",
       "    <tr>\n",
       "      <th>4</th>\n",
       "      <td>15</td>\n",
       "      <td>2021-07-01T02:38:00</td>\n",
       "      <td>2021-07-01T02:53:00</td>\n",
       "      <td>02</td>\n",
       "      <td>One Way</td>\n",
       "      <td>30</td>\n",
       "      <td>Monthly Pass</td>\n",
       "    </tr>\n",
       "  </tbody>\n",
       "</table>\n",
       "</div>"
      ],
      "text/plain": [
       "   Duration           Start Time             End Time Start Hour  \\\n",
       "0        19  2021-07-01T00:12:00  2021-07-01T00:31:00         00   \n",
       "1        22  2021-07-01T00:23:00  2021-07-01T00:45:00         00   \n",
       "2        26  2021-07-01T00:34:00  2021-07-01T01:00:00         00   \n",
       "3        17  2021-07-01T00:50:00  2021-07-01T01:07:00         00   \n",
       "4        15  2021-07-01T02:38:00  2021-07-01T02:53:00         02   \n",
       "\n",
       "  Trip Route Category  Plan Duration Passholder Type  \n",
       "0             One Way             30    Monthly Pass  \n",
       "1          Round Trip             30    Monthly Pass  \n",
       "2          Round Trip             30    Monthly Pass  \n",
       "3             One Way             30    Monthly Pass  \n",
       "4             One Way             30    Monthly Pass  "
      ]
     },
     "execution_count": 218,
     "metadata": {},
     "output_type": "execute_result"
    }
   ],
   "source": [
    "bike_info.head()"
   ]
  },
  {
   "cell_type": "code",
   "execution_count": null,
   "metadata": {
    "collapsed": false
   },
   "outputs": [],
   "source": []
  },
  {
   "cell_type": "markdown",
   "metadata": {},
   "source": [
    "### **Divide the 'Round Trip'&'One Way'**"
   ]
  },
  {
   "cell_type": "code",
   "execution_count": 219,
   "metadata": {},
   "outputs": [],
   "source": [
    "one_way_trip = bike_info[bike_info['Trip Route Category']=='One Way']\n",
    "round_trip = bike_info[bike_info['Trip Route Category']=='Round Trip']"
   ]
  },
  {
   "cell_type": "code",
   "execution_count": 220,
   "metadata": {},
   "outputs": [
    {
     "data": {
      "text/html": [
       "<div>\n",
       "<style scoped>\n",
       "    .dataframe tbody tr th:only-of-type {\n",
       "        vertical-align: middle;\n",
       "    }\n",
       "\n",
       "    .dataframe tbody tr th {\n",
       "        vertical-align: top;\n",
       "    }\n",
       "\n",
       "    .dataframe thead th {\n",
       "        text-align: right;\n",
       "    }\n",
       "</style>\n",
       "<table border=\"1\" class=\"dataframe\">\n",
       "  <thead>\n",
       "    <tr style=\"text-align: right;\">\n",
       "      <th></th>\n",
       "      <th>Duration</th>\n",
       "      <th>Start Time</th>\n",
       "      <th>End Time</th>\n",
       "      <th>Start Hour</th>\n",
       "      <th>Trip Route Category</th>\n",
       "      <th>Plan Duration</th>\n",
       "      <th>Passholder Type</th>\n",
       "    </tr>\n",
       "  </thead>\n",
       "  <tbody>\n",
       "    <tr>\n",
       "      <th>0</th>\n",
       "      <td>19</td>\n",
       "      <td>2021-07-01T00:12:00</td>\n",
       "      <td>2021-07-01T00:31:00</td>\n",
       "      <td>00</td>\n",
       "      <td>One Way</td>\n",
       "      <td>30</td>\n",
       "      <td>Monthly Pass</td>\n",
       "    </tr>\n",
       "    <tr>\n",
       "      <th>3</th>\n",
       "      <td>17</td>\n",
       "      <td>2021-07-01T00:50:00</td>\n",
       "      <td>2021-07-01T01:07:00</td>\n",
       "      <td>00</td>\n",
       "      <td>One Way</td>\n",
       "      <td>30</td>\n",
       "      <td>Monthly Pass</td>\n",
       "    </tr>\n",
       "    <tr>\n",
       "      <th>4</th>\n",
       "      <td>15</td>\n",
       "      <td>2021-07-01T02:38:00</td>\n",
       "      <td>2021-07-01T02:53:00</td>\n",
       "      <td>02</td>\n",
       "      <td>One Way</td>\n",
       "      <td>30</td>\n",
       "      <td>Monthly Pass</td>\n",
       "    </tr>\n",
       "    <tr>\n",
       "      <th>5</th>\n",
       "      <td>10</td>\n",
       "      <td>2021-07-01T03:25:00</td>\n",
       "      <td>2021-07-01T03:35:00</td>\n",
       "      <td>03</td>\n",
       "      <td>One Way</td>\n",
       "      <td>1</td>\n",
       "      <td>Walk-up</td>\n",
       "    </tr>\n",
       "    <tr>\n",
       "      <th>6</th>\n",
       "      <td>16</td>\n",
       "      <td>2021-07-01T03:51:00</td>\n",
       "      <td>2021-07-01T04:07:00</td>\n",
       "      <td>03</td>\n",
       "      <td>One Way</td>\n",
       "      <td>30</td>\n",
       "      <td>Monthly Pass</td>\n",
       "    </tr>\n",
       "  </tbody>\n",
       "</table>\n",
       "</div>"
      ],
      "text/plain": [
       "   Duration           Start Time             End Time Start Hour  \\\n",
       "0        19  2021-07-01T00:12:00  2021-07-01T00:31:00         00   \n",
       "3        17  2021-07-01T00:50:00  2021-07-01T01:07:00         00   \n",
       "4        15  2021-07-01T02:38:00  2021-07-01T02:53:00         02   \n",
       "5        10  2021-07-01T03:25:00  2021-07-01T03:35:00         03   \n",
       "6        16  2021-07-01T03:51:00  2021-07-01T04:07:00         03   \n",
       "\n",
       "  Trip Route Category  Plan Duration Passholder Type  \n",
       "0             One Way             30    Monthly Pass  \n",
       "3             One Way             30    Monthly Pass  \n",
       "4             One Way             30    Monthly Pass  \n",
       "5             One Way              1         Walk-up  \n",
       "6             One Way             30    Monthly Pass  "
      ]
     },
     "execution_count": 220,
     "metadata": {},
     "output_type": "execute_result"
    }
   ],
   "source": [
    "one_way_trip.head()"
   ]
  },
  {
   "cell_type": "code",
   "execution_count": 221,
   "metadata": {},
   "outputs": [
    {
     "data": {
      "text/html": [
       "<div>\n",
       "<style scoped>\n",
       "    .dataframe tbody tr th:only-of-type {\n",
       "        vertical-align: middle;\n",
       "    }\n",
       "\n",
       "    .dataframe tbody tr th {\n",
       "        vertical-align: top;\n",
       "    }\n",
       "\n",
       "    .dataframe thead th {\n",
       "        text-align: right;\n",
       "    }\n",
       "</style>\n",
       "<table border=\"1\" class=\"dataframe\">\n",
       "  <thead>\n",
       "    <tr style=\"text-align: right;\">\n",
       "      <th></th>\n",
       "      <th>Duration</th>\n",
       "      <th>Start Time</th>\n",
       "      <th>End Time</th>\n",
       "      <th>Start Hour</th>\n",
       "      <th>Trip Route Category</th>\n",
       "      <th>Plan Duration</th>\n",
       "      <th>Passholder Type</th>\n",
       "    </tr>\n",
       "  </thead>\n",
       "  <tbody>\n",
       "    <tr>\n",
       "      <th>1</th>\n",
       "      <td>22</td>\n",
       "      <td>2021-07-01T00:23:00</td>\n",
       "      <td>2021-07-01T00:45:00</td>\n",
       "      <td>00</td>\n",
       "      <td>Round Trip</td>\n",
       "      <td>30</td>\n",
       "      <td>Monthly Pass</td>\n",
       "    </tr>\n",
       "    <tr>\n",
       "      <th>2</th>\n",
       "      <td>26</td>\n",
       "      <td>2021-07-01T00:34:00</td>\n",
       "      <td>2021-07-01T01:00:00</td>\n",
       "      <td>00</td>\n",
       "      <td>Round Trip</td>\n",
       "      <td>30</td>\n",
       "      <td>Monthly Pass</td>\n",
       "    </tr>\n",
       "    <tr>\n",
       "      <th>23</th>\n",
       "      <td>23</td>\n",
       "      <td>2021-07-01T07:50:00</td>\n",
       "      <td>2021-07-01T08:13:00</td>\n",
       "      <td>07</td>\n",
       "      <td>Round Trip</td>\n",
       "      <td>30</td>\n",
       "      <td>Monthly Pass</td>\n",
       "    </tr>\n",
       "    <tr>\n",
       "      <th>25</th>\n",
       "      <td>23</td>\n",
       "      <td>2021-07-01T07:52:00</td>\n",
       "      <td>2021-07-01T08:15:00</td>\n",
       "      <td>07</td>\n",
       "      <td>Round Trip</td>\n",
       "      <td>1</td>\n",
       "      <td>One Day Pass</td>\n",
       "    </tr>\n",
       "    <tr>\n",
       "      <th>33</th>\n",
       "      <td>72</td>\n",
       "      <td>2021-07-01T08:22:00</td>\n",
       "      <td>2021-07-01T09:34:00</td>\n",
       "      <td>08</td>\n",
       "      <td>Round Trip</td>\n",
       "      <td>1</td>\n",
       "      <td>One Day Pass</td>\n",
       "    </tr>\n",
       "  </tbody>\n",
       "</table>\n",
       "</div>"
      ],
      "text/plain": [
       "    Duration           Start Time             End Time Start Hour  \\\n",
       "1         22  2021-07-01T00:23:00  2021-07-01T00:45:00         00   \n",
       "2         26  2021-07-01T00:34:00  2021-07-01T01:00:00         00   \n",
       "23        23  2021-07-01T07:50:00  2021-07-01T08:13:00         07   \n",
       "25        23  2021-07-01T07:52:00  2021-07-01T08:15:00         07   \n",
       "33        72  2021-07-01T08:22:00  2021-07-01T09:34:00         08   \n",
       "\n",
       "   Trip Route Category  Plan Duration Passholder Type  \n",
       "1           Round Trip             30    Monthly Pass  \n",
       "2           Round Trip             30    Monthly Pass  \n",
       "23          Round Trip             30    Monthly Pass  \n",
       "25          Round Trip              1    One Day Pass  \n",
       "33          Round Trip              1    One Day Pass  "
      ]
     },
     "execution_count": 221,
     "metadata": {},
     "output_type": "execute_result"
    }
   ],
   "source": [
    "round_trip.head()"
   ]
  },
  {
   "cell_type": "markdown",
   "metadata": {},
   "source": [
    "### Analyze 'One Way' and 'Round Starting' Time"
   ]
  },
  {
   "cell_type": "code",
   "execution_count": 222,
   "metadata": {},
   "outputs": [],
   "source": [
    "one_way_hour = one_way_trip['Start Hour'].value_counts().sort_index()\n",
    "round_hour = round_trip['Start Hour'].value_counts().sort_index()"
   ]
  },
  {
   "cell_type": "code",
   "execution_count": 223,
   "metadata": {},
   "outputs": [
    {
     "data": {
      "text/plain": [
       "'/home/robot/Desktop/SoftRice/LASharedBikeAnalysis-main/Process_data/departure_time_analysis.html'"
      ]
     },
     "execution_count": 223,
     "metadata": {},
     "output_type": "execute_result"
    }
   ],
   "source": [
    "from pyecharts.charts import Line\n",
    "from pyecharts import options as opts\n",
    "\n",
    "x1 = list(map(int, one_way_hour.index))\n",
    "y1 = one_way_hour.values.tolist()\n",
    "\n",
    "x2 = list(map(int, round_hour.index))\n",
    "y2 = round_hour.values.tolist()\n",
    "\n",
    "line = Line(init_opts=opts.InitOpts(width='1000px', height='400px'))\n",
    "line.add_xaxis(x1)\n",
    "line.add_yaxis(\"one way\", y1, markpoint_opts=opts.MarkPointOpts(data=[opts.MarkPointItem(type_='max')]))\n",
    "line.add_yaxis(\"round\", y2, markpoint_opts=opts.MarkPointOpts(data=[opts.MarkPointItem(type_='max')]))\n",
    "line.set_global_opts(title_opts=opts.TitleOpts(title='One-way/round-trip departure time analysis'))\n",
    "\n",
    "line.render('departure_time_analysis.html')\n"
   ]
  },
  {
   "cell_type": "markdown",
   "metadata": {},
   "source": [
    "### Analyze the proportion of different membership card holders in One Way and Round"
   ]
  },
  {
   "cell_type": "code",
   "execution_count": 224,
   "metadata": {},
   "outputs": [],
   "source": [
    "oneway_rate = one_way_trip['Passholder Type'].value_counts()/sum(one_way_trip['Passholder Type'].value_counts())\n",
    "#oneway_rate"
   ]
  },
  {
   "cell_type": "code",
   "execution_count": 225,
   "metadata": {},
   "outputs": [],
   "source": [
    "round_rate = round_trip['Passholder Type'].value_counts()/sum(round_trip['Passholder Type'].value_counts())"
   ]
  },
  {
   "cell_type": "code",
   "execution_count": 226,
   "metadata": {},
   "outputs": [
    {
     "data": {
      "text/plain": [
       "'/home/robot/Desktop/SoftRice/LASharedBikeAnalysis-main/Process_data/One-way-pie.html'"
      ]
     },
     "execution_count": 226,
     "metadata": {},
     "output_type": "execute_result"
    }
   ],
   "source": [
    "from pyecharts.charts import Pie\n",
    "from pyecharts import options as opts\n",
    "\n",
    "attr1 = oneway_rate.index.tolist()\n",
    "v1 = oneway_rate.values.tolist()\n",
    "\n",
    "pie1 = Pie(init_opts=opts.InitOpts(width='1000px', height='400px'))\n",
    "pie1.add(\"\", [list(z) for z in zip(attr1, v1)], radius=[\"30%\", \"75%\"])\n",
    "pie1.set_global_opts(title_opts=opts.TitleOpts(title=\"One Way\"))\n",
    "pie1.set_series_opts(label_opts=opts.LabelOpts(formatter=\"{b}: {c}\"))\n",
    "\n",
    "pie1.render('One-way-pie.html')\n"
   ]
  },
  {
   "cell_type": "code",
   "execution_count": 227,
   "metadata": {},
   "outputs": [
    {
     "data": {
      "text/plain": [
       "'/home/robot/Desktop/SoftRice/LASharedBikeAnalysis-main/Process_data/Round-pie.html'"
      ]
     },
     "execution_count": 227,
     "metadata": {},
     "output_type": "execute_result"
    }
   ],
   "source": [
    "from pyecharts.charts import Pie\n",
    "from pyecharts import options as opts\n",
    "\n",
    "attr2 = round_rate.index.tolist()\n",
    "v2 = round_rate.values.tolist()\n",
    "\n",
    "pie2 = Pie(init_opts=opts.InitOpts(width='1000px', height='400px'))\n",
    "pie2.add(\"\", [list(z) for z in zip(attr2, v2)], radius=[\"30%\", \"75%\"])\n",
    "pie2.set_global_opts(title_opts=opts.TitleOpts(title=\"Round\"))\n",
    "pie2.set_series_opts(label_opts=opts.LabelOpts(formatter=\"{b}: {c}\"))\n",
    "\n",
    "pie2.render('Round-pie.html')\n"
   ]
  },
  {
   "cell_type": "markdown",
   "metadata": {},
   "source": [
    "### Conclusion"
   ]
  },
  {
   "cell_type": "markdown",
   "metadata": {},
   "source": [
    "- The proportion of users with membership cards for One Way Trip's shared bicycles is **very high**, accounting for over 70%. Most of them are **monthly card holders**.\n",
    "- The majority of **Round Trip's** shared bicycle users are casual users, with only **thirty percent** having membership cards, and most of these members are also **monthly card holders**.\""
   ]
  },
  {
   "cell_type": "markdown",
   "metadata": {},
   "source": [
    "---"
   ]
  },
  {
   "cell_type": "markdown",
   "metadata": {},
   "source": [
    "### 分析One Way与Round与共享单车使用时长的关系"
   ]
  },
  {
   "cell_type": "code",
   "execution_count": 228,
   "metadata": {},
   "outputs": [
    {
     "data": {
      "text/html": [
       "<div>\n",
       "<style scoped>\n",
       "    .dataframe tbody tr th:only-of-type {\n",
       "        vertical-align: middle;\n",
       "    }\n",
       "\n",
       "    .dataframe tbody tr th {\n",
       "        vertical-align: top;\n",
       "    }\n",
       "\n",
       "    .dataframe thead th {\n",
       "        text-align: right;\n",
       "    }\n",
       "</style>\n",
       "<table border=\"1\" class=\"dataframe\">\n",
       "  <thead>\n",
       "    <tr style=\"text-align: right;\">\n",
       "      <th></th>\n",
       "      <th>Duration</th>\n",
       "      <th>Trip Route Category</th>\n",
       "    </tr>\n",
       "  </thead>\n",
       "  <tbody>\n",
       "    <tr>\n",
       "      <th>0</th>\n",
       "      <td>19</td>\n",
       "      <td>One Way</td>\n",
       "    </tr>\n",
       "    <tr>\n",
       "      <th>1</th>\n",
       "      <td>22</td>\n",
       "      <td>Round Trip</td>\n",
       "    </tr>\n",
       "    <tr>\n",
       "      <th>2</th>\n",
       "      <td>26</td>\n",
       "      <td>Round Trip</td>\n",
       "    </tr>\n",
       "    <tr>\n",
       "      <th>3</th>\n",
       "      <td>17</td>\n",
       "      <td>One Way</td>\n",
       "    </tr>\n",
       "    <tr>\n",
       "      <th>4</th>\n",
       "      <td>15</td>\n",
       "      <td>One Way</td>\n",
       "    </tr>\n",
       "  </tbody>\n",
       "</table>\n",
       "</div>"
      ],
      "text/plain": [
       "   Duration Trip Route Category\n",
       "0        19             One Way\n",
       "1        22          Round Trip\n",
       "2        26          Round Trip\n",
       "3        17             One Way\n",
       "4        15             One Way"
      ]
     },
     "execution_count": 228,
     "metadata": {},
     "output_type": "execute_result"
    }
   ],
   "source": [
    "duration_cate_info = bike_info[['Duration','Trip Route Category']]\n",
    "duration_cate_info.head()"
   ]
  },
  {
   "cell_type": "code",
   "execution_count": 229,
   "metadata": {},
   "outputs": [],
   "source": [
    "one_way_duration = duration_cate_info[duration_cate_info['Trip Route Category']=='One Way']\n",
    "#one_way_duration\n",
    "round_duration = duration_cate_info[duration_cate_info['Trip Route Category']=='Round Trip']"
   ]
  },
  {
   "cell_type": "code",
   "execution_count": 230,
   "metadata": {},
   "outputs": [],
   "source": [
    "tmp_frame1 = one_way_duration.describe()\n",
    "tmp_frame2 = round_duration.describe()\n",
    "tmp_frame1.columns = ['One Way']\n",
    "tmp_frame2.columns = ['Round']"
   ]
  },
  {
   "cell_type": "markdown",
   "metadata": {},
   "source": [
    "Output Describe Information"
   ]
  },
  {
   "cell_type": "code",
   "execution_count": 231,
   "metadata": {},
   "outputs": [
    {
     "data": {
      "text/html": [
       "<div>\n",
       "<style scoped>\n",
       "    .dataframe tbody tr th:only-of-type {\n",
       "        vertical-align: middle;\n",
       "    }\n",
       "\n",
       "    .dataframe tbody tr th {\n",
       "        vertical-align: top;\n",
       "    }\n",
       "\n",
       "    .dataframe thead th {\n",
       "        text-align: right;\n",
       "    }\n",
       "</style>\n",
       "<table border=\"1\" class=\"dataframe\">\n",
       "  <thead>\n",
       "    <tr style=\"text-align: right;\">\n",
       "      <th></th>\n",
       "      <th>One Way</th>\n",
       "      <th>Round</th>\n",
       "    </tr>\n",
       "  </thead>\n",
       "  <tbody>\n",
       "    <tr>\n",
       "      <th>count</th>\n",
       "      <td>45631.000000</td>\n",
       "      <td>12780.000000</td>\n",
       "    </tr>\n",
       "    <tr>\n",
       "      <th>mean</th>\n",
       "      <td>39.475839</td>\n",
       "      <td>68.067136</td>\n",
       "    </tr>\n",
       "    <tr>\n",
       "      <th>std</th>\n",
       "      <td>136.662651</td>\n",
       "      <td>129.701820</td>\n",
       "    </tr>\n",
       "    <tr>\n",
       "      <th>min</th>\n",
       "      <td>1.000000</td>\n",
       "      <td>1.000000</td>\n",
       "    </tr>\n",
       "    <tr>\n",
       "      <th>25%</th>\n",
       "      <td>8.000000</td>\n",
       "      <td>18.000000</td>\n",
       "    </tr>\n",
       "    <tr>\n",
       "      <th>50%</th>\n",
       "      <td>15.000000</td>\n",
       "      <td>35.000000</td>\n",
       "    </tr>\n",
       "    <tr>\n",
       "      <th>75%</th>\n",
       "      <td>27.000000</td>\n",
       "      <td>75.000000</td>\n",
       "    </tr>\n",
       "    <tr>\n",
       "      <th>max</th>\n",
       "      <td>1440.000000</td>\n",
       "      <td>1440.000000</td>\n",
       "    </tr>\n",
       "  </tbody>\n",
       "</table>\n",
       "</div>"
      ],
      "text/plain": [
       "            One Way         Round\n",
       "count  45631.000000  12780.000000\n",
       "mean      39.475839     68.067136\n",
       "std      136.662651    129.701820\n",
       "min        1.000000      1.000000\n",
       "25%        8.000000     18.000000\n",
       "50%       15.000000     35.000000\n",
       "75%       27.000000     75.000000\n",
       "max     1440.000000   1440.000000"
      ]
     },
     "execution_count": 231,
     "metadata": {},
     "output_type": "execute_result"
    }
   ],
   "source": [
    "tmp_frame1.join(tmp_frame2) #collapse frame"
   ]
  },
  {
   "cell_type": "markdown",
   "metadata": {},
   "source": [
    "### Conclusion"
   ]
  },
  {
   "cell_type": "markdown",
   "metadata": {},
   "source": [
    "- Based on the **mean**, **median**, and **upper and lower quartiles** in the table above, it is evident that the duration of use for **Round Trip** bicycles is generally longer than that of **One Way Trip** bicycles, which is consistent with expectations."
   ]
  },
  {
   "cell_type": "markdown",
   "metadata": {},
   "source": [
    "---"
   ]
  }
 ],
 "metadata": {
  "kernelspec": {
   "display_name": "Python 3 (ipykernel)",
   "language": "python",
   "name": "python3"
  },
  "language_info": {
   "codemirror_mode": {
    "name": "ipython",
    "version": 3
   },
   "file_extension": ".py",
   "mimetype": "text/x-python",
   "name": "python",
   "nbconvert_exporter": "python",
   "pygments_lexer": "ipython3",
   "version": "3.10.12"
  }
 },
 "nbformat": 4,
 "nbformat_minor": 2
}
